{
 "cells": [
  {
   "cell_type": "code",
   "execution_count": 343,
   "id": "38be66c5",
   "metadata": {},
   "outputs": [],
   "source": [
    "import numpy as np\n",
    "import pandas as pd\n",
    "import sklearn.datasets\n",
    "from sklearn.model_selection import train_test_split\n",
    "from sklearn.linear_model import LogisticRegression\n",
    "from sklearn.metrics import accuracy_score\n",
    "from sklearn.preprocessing import StandardScaler\n",
    "from sklearn import datasets\n",
    "import matplotlib.pyplot as plt\n",
    "from matplotlib import rcParams\n",
    "%matplotlib inline\n",
    "import warnings\n",
    "warnings.filterwarnings('ignore')\n",
    "import seaborn as sns"
   ]
  },
  {
   "cell_type": "markdown",
   "id": "8d2dcbf4",
   "metadata": {},
   "source": [
    "# Loading the dataset"
   ]
  },
  {
   "cell_type": "code",
   "execution_count": 344,
   "id": "64fdbc4b",
   "metadata": {},
   "outputs": [],
   "source": [
    "# Loading the dataset\n",
    "df = pd.read_csv('C:/Users/DELL/Downloads/heart1.csv')"
   ]
  },
  {
   "cell_type": "markdown",
   "id": "e7936e17",
   "metadata": {},
   "source": [
    "# Explore dataset"
   ]
  },
  {
   "cell_type": "code",
   "execution_count": 345,
   "id": "2b81750d",
   "metadata": {},
   "outputs": [
    {
     "data": {
      "text/plain": [
       "(340, 17)"
      ]
     },
     "execution_count": 345,
     "metadata": {},
     "output_type": "execute_result"
    }
   ],
   "source": [
    "# Explore dataset\n",
    "df.shape"
   ]
  },
  {
   "cell_type": "code",
   "execution_count": 346,
   "id": "9b5f6b04",
   "metadata": {},
   "outputs": [
    {
     "data": {
      "text/plain": [
       "Index(['pid', 'age', 'sex', 'cp', 'trestbps', 'chol', 'famhist', 'fbs',\n",
       "       'restecg', 'smoke', 'thalach', 'exang', 'oldpeak', 'slope', 'ca',\n",
       "       'thal', 'target'],\n",
       "      dtype='object')"
      ]
     },
     "execution_count": 346,
     "metadata": {},
     "output_type": "execute_result"
    }
   ],
   "source": [
    "df.columns"
   ]
  },
  {
   "cell_type": "code",
   "execution_count": 347,
   "id": "1a829b0a",
   "metadata": {},
   "outputs": [
    {
     "data": {
      "text/plain": [
       "pid           int64\n",
       "age           int64\n",
       "sex          object\n",
       "cp           object\n",
       "trestbps      int64\n",
       "chol          int64\n",
       "famhist      object\n",
       "fbs            bool\n",
       "restecg      object\n",
       "smoke        object\n",
       "thalach       int64\n",
       "exang        object\n",
       "oldpeak     float64\n",
       "slope         int64\n",
       "ca            int64\n",
       "thal          int64\n",
       "target        int64\n",
       "dtype: object"
      ]
     },
     "execution_count": 347,
     "metadata": {},
     "output_type": "execute_result"
    }
   ],
   "source": [
    "df.dtypes"
   ]
  },
  {
   "cell_type": "code",
   "execution_count": 348,
   "id": "a600ffdb",
   "metadata": {},
   "outputs": [
    {
     "data": {
      "text/html": [
       "<div>\n",
       "<style scoped>\n",
       "    .dataframe tbody tr th:only-of-type {\n",
       "        vertical-align: middle;\n",
       "    }\n",
       "\n",
       "    .dataframe tbody tr th {\n",
       "        vertical-align: top;\n",
       "    }\n",
       "\n",
       "    .dataframe thead th {\n",
       "        text-align: right;\n",
       "    }\n",
       "</style>\n",
       "<table border=\"1\" class=\"dataframe\">\n",
       "  <thead>\n",
       "    <tr style=\"text-align: right;\">\n",
       "      <th></th>\n",
       "      <th>pid</th>\n",
       "      <th>age</th>\n",
       "      <th>sex</th>\n",
       "      <th>cp</th>\n",
       "      <th>trestbps</th>\n",
       "      <th>chol</th>\n",
       "      <th>famhist</th>\n",
       "      <th>fbs</th>\n",
       "      <th>restecg</th>\n",
       "      <th>smoke</th>\n",
       "      <th>thalach</th>\n",
       "      <th>exang</th>\n",
       "      <th>oldpeak</th>\n",
       "      <th>slope</th>\n",
       "      <th>ca</th>\n",
       "      <th>thal</th>\n",
       "      <th>target</th>\n",
       "    </tr>\n",
       "  </thead>\n",
       "  <tbody>\n",
       "    <tr>\n",
       "      <th>0</th>\n",
       "      <td>1</td>\n",
       "      <td>63</td>\n",
       "      <td>M</td>\n",
       "      <td>Asymtomatic</td>\n",
       "      <td>145</td>\n",
       "      <td>233</td>\n",
       "      <td>no</td>\n",
       "      <td>True</td>\n",
       "      <td>normal</td>\n",
       "      <td>no</td>\n",
       "      <td>150</td>\n",
       "      <td>no</td>\n",
       "      <td>2.3</td>\n",
       "      <td>0</td>\n",
       "      <td>0</td>\n",
       "      <td>1</td>\n",
       "      <td>1</td>\n",
       "    </tr>\n",
       "    <tr>\n",
       "      <th>1</th>\n",
       "      <td>2</td>\n",
       "      <td>37</td>\n",
       "      <td>M</td>\n",
       "      <td>Non-Angina pain</td>\n",
       "      <td>130</td>\n",
       "      <td>250</td>\n",
       "      <td>no</td>\n",
       "      <td>False</td>\n",
       "      <td>ST-T wave abnormality</td>\n",
       "      <td>yes</td>\n",
       "      <td>187</td>\n",
       "      <td>no</td>\n",
       "      <td>3.5</td>\n",
       "      <td>0</td>\n",
       "      <td>0</td>\n",
       "      <td>2</td>\n",
       "      <td>1</td>\n",
       "    </tr>\n",
       "    <tr>\n",
       "      <th>2</th>\n",
       "      <td>3</td>\n",
       "      <td>41</td>\n",
       "      <td>F</td>\n",
       "      <td>Atypical Angina</td>\n",
       "      <td>130</td>\n",
       "      <td>204</td>\n",
       "      <td>no</td>\n",
       "      <td>False</td>\n",
       "      <td>normal</td>\n",
       "      <td>no</td>\n",
       "      <td>172</td>\n",
       "      <td>no</td>\n",
       "      <td>1.4</td>\n",
       "      <td>2</td>\n",
       "      <td>0</td>\n",
       "      <td>2</td>\n",
       "      <td>1</td>\n",
       "    </tr>\n",
       "    <tr>\n",
       "      <th>3</th>\n",
       "      <td>4</td>\n",
       "      <td>56</td>\n",
       "      <td>M</td>\n",
       "      <td>Atypical Angina</td>\n",
       "      <td>120</td>\n",
       "      <td>236</td>\n",
       "      <td>no</td>\n",
       "      <td>False</td>\n",
       "      <td>ST-T wave abnormality</td>\n",
       "      <td>no</td>\n",
       "      <td>178</td>\n",
       "      <td>no</td>\n",
       "      <td>0.8</td>\n",
       "      <td>2</td>\n",
       "      <td>0</td>\n",
       "      <td>2</td>\n",
       "      <td>1</td>\n",
       "    </tr>\n",
       "    <tr>\n",
       "      <th>4</th>\n",
       "      <td>5</td>\n",
       "      <td>51</td>\n",
       "      <td>F</td>\n",
       "      <td>Non-Angina pain</td>\n",
       "      <td>140</td>\n",
       "      <td>308</td>\n",
       "      <td>yes</td>\n",
       "      <td>False</td>\n",
       "      <td>NaN</td>\n",
       "      <td>yes</td>\n",
       "      <td>142</td>\n",
       "      <td>no</td>\n",
       "      <td>1.5</td>\n",
       "      <td>2</td>\n",
       "      <td>1</td>\n",
       "      <td>2</td>\n",
       "      <td>1</td>\n",
       "    </tr>\n",
       "  </tbody>\n",
       "</table>\n",
       "</div>"
      ],
      "text/plain": [
       "   pid  age sex               cp  trestbps  chol famhist    fbs  \\\n",
       "0    1   63   M      Asymtomatic       145   233      no   True   \n",
       "1    2   37   M  Non-Angina pain       130   250      no  False   \n",
       "2    3   41   F  Atypical Angina       130   204      no  False   \n",
       "3    4   56   M  Atypical Angina       120   236      no  False   \n",
       "4    5   51   F  Non-Angina pain       140   308     yes  False   \n",
       "\n",
       "                 restecg smoke  thalach exang  oldpeak  slope  ca  thal  \\\n",
       "0                 normal    no      150    no      2.3      0   0     1   \n",
       "1  ST-T wave abnormality   yes      187    no      3.5      0   0     2   \n",
       "2                 normal    no      172    no      1.4      2   0     2   \n",
       "3  ST-T wave abnormality    no      178    no      0.8      2   0     2   \n",
       "4                    NaN   yes      142    no      1.5      2   1     2   \n",
       "\n",
       "   target  \n",
       "0       1  \n",
       "1       1  \n",
       "2       1  \n",
       "3       1  \n",
       "4       1  "
      ]
     },
     "execution_count": 348,
     "metadata": {},
     "output_type": "execute_result"
    }
   ],
   "source": [
    "df.head()"
   ]
  },
  {
   "cell_type": "code",
   "execution_count": 349,
   "id": "6a66ab43",
   "metadata": {},
   "outputs": [
    {
     "data": {
      "text/html": [
       "<div>\n",
       "<style scoped>\n",
       "    .dataframe tbody tr th:only-of-type {\n",
       "        vertical-align: middle;\n",
       "    }\n",
       "\n",
       "    .dataframe tbody tr th {\n",
       "        vertical-align: top;\n",
       "    }\n",
       "\n",
       "    .dataframe thead th {\n",
       "        text-align: right;\n",
       "    }\n",
       "</style>\n",
       "<table border=\"1\" class=\"dataframe\">\n",
       "  <thead>\n",
       "    <tr style=\"text-align: right;\">\n",
       "      <th></th>\n",
       "      <th>pid</th>\n",
       "      <th>age</th>\n",
       "      <th>sex</th>\n",
       "      <th>cp</th>\n",
       "      <th>trestbps</th>\n",
       "      <th>chol</th>\n",
       "      <th>famhist</th>\n",
       "      <th>fbs</th>\n",
       "      <th>restecg</th>\n",
       "      <th>smoke</th>\n",
       "      <th>thalach</th>\n",
       "      <th>exang</th>\n",
       "      <th>oldpeak</th>\n",
       "      <th>slope</th>\n",
       "      <th>ca</th>\n",
       "      <th>thal</th>\n",
       "      <th>target</th>\n",
       "    </tr>\n",
       "  </thead>\n",
       "  <tbody>\n",
       "    <tr>\n",
       "      <th>335</th>\n",
       "      <td>336</td>\n",
       "      <td>47</td>\n",
       "      <td>M</td>\n",
       "      <td>NaN</td>\n",
       "      <td>130</td>\n",
       "      <td>253</td>\n",
       "      <td>no</td>\n",
       "      <td>False</td>\n",
       "      <td>ST-T wave abnormality</td>\n",
       "      <td>no</td>\n",
       "      <td>179</td>\n",
       "      <td>no</td>\n",
       "      <td>0.0</td>\n",
       "      <td>2</td>\n",
       "      <td>0</td>\n",
       "      <td>2</td>\n",
       "      <td>1</td>\n",
       "    </tr>\n",
       "    <tr>\n",
       "      <th>336</th>\n",
       "      <td>337</td>\n",
       "      <td>51</td>\n",
       "      <td>M</td>\n",
       "      <td>NaN</td>\n",
       "      <td>125</td>\n",
       "      <td>213</td>\n",
       "      <td>no</td>\n",
       "      <td>False</td>\n",
       "      <td>normal</td>\n",
       "      <td>yes</td>\n",
       "      <td>125</td>\n",
       "      <td>yes</td>\n",
       "      <td>1.4</td>\n",
       "      <td>2</td>\n",
       "      <td>1</td>\n",
       "      <td>2</td>\n",
       "      <td>1</td>\n",
       "    </tr>\n",
       "    <tr>\n",
       "      <th>337</th>\n",
       "      <td>338</td>\n",
       "      <td>46</td>\n",
       "      <td>F</td>\n",
       "      <td>Non-Angina pain</td>\n",
       "      <td>142</td>\n",
       "      <td>177</td>\n",
       "      <td>yes</td>\n",
       "      <td>False</td>\n",
       "      <td>NaN</td>\n",
       "      <td>yes</td>\n",
       "      <td>160</td>\n",
       "      <td>yes</td>\n",
       "      <td>1.4</td>\n",
       "      <td>0</td>\n",
       "      <td>0</td>\n",
       "      <td>2</td>\n",
       "      <td>1</td>\n",
       "    </tr>\n",
       "    <tr>\n",
       "      <th>338</th>\n",
       "      <td>339</td>\n",
       "      <td>54</td>\n",
       "      <td>F</td>\n",
       "      <td>NaN</td>\n",
       "      <td>135</td>\n",
       "      <td>304</td>\n",
       "      <td>no</td>\n",
       "      <td>True</td>\n",
       "      <td>ST-T wave abnormality</td>\n",
       "      <td>yes</td>\n",
       "      <td>170</td>\n",
       "      <td>no</td>\n",
       "      <td>0.0</td>\n",
       "      <td>2</td>\n",
       "      <td>0</td>\n",
       "      <td>2</td>\n",
       "      <td>1</td>\n",
       "    </tr>\n",
       "    <tr>\n",
       "      <th>339</th>\n",
       "      <td>340</td>\n",
       "      <td>56</td>\n",
       "      <td>M</td>\n",
       "      <td>NaN</td>\n",
       "      <td>120</td>\n",
       "      <td>240</td>\n",
       "      <td>no</td>\n",
       "      <td>False</td>\n",
       "      <td>ST-T wave abnormality</td>\n",
       "      <td>yes</td>\n",
       "      <td>169</td>\n",
       "      <td>no</td>\n",
       "      <td>0.0</td>\n",
       "      <td>0</td>\n",
       "      <td>0</td>\n",
       "      <td>2</td>\n",
       "      <td>1</td>\n",
       "    </tr>\n",
       "  </tbody>\n",
       "</table>\n",
       "</div>"
      ],
      "text/plain": [
       "     pid  age sex               cp  trestbps  chol famhist    fbs  \\\n",
       "335  336   47   M              NaN       130   253      no  False   \n",
       "336  337   51   M              NaN       125   213      no  False   \n",
       "337  338   46   F  Non-Angina pain       142   177     yes  False   \n",
       "338  339   54   F              NaN       135   304      no   True   \n",
       "339  340   56   M              NaN       120   240      no  False   \n",
       "\n",
       "                   restecg smoke  thalach exang  oldpeak  slope  ca  thal  \\\n",
       "335  ST-T wave abnormality    no      179    no      0.0      2   0     2   \n",
       "336                 normal   yes      125   yes      1.4      2   1     2   \n",
       "337                    NaN   yes      160   yes      1.4      0   0     2   \n",
       "338  ST-T wave abnormality   yes      170    no      0.0      2   0     2   \n",
       "339  ST-T wave abnormality   yes      169    no      0.0      0   0     2   \n",
       "\n",
       "     target  \n",
       "335       1  \n",
       "336       1  \n",
       "337       1  \n",
       "338       1  \n",
       "339       1  "
      ]
     },
     "execution_count": 349,
     "metadata": {},
     "output_type": "execute_result"
    }
   ],
   "source": [
    "df.tail()"
   ]
  },
  {
   "cell_type": "code",
   "execution_count": 350,
   "id": "b2f09e01",
   "metadata": {},
   "outputs": [
    {
     "data": {
      "text/plain": [
       "pid         False\n",
       "age         False\n",
       "sex         False\n",
       "cp           True\n",
       "trestbps    False\n",
       "chol        False\n",
       "famhist     False\n",
       "fbs         False\n",
       "restecg      True\n",
       "smoke       False\n",
       "thalach     False\n",
       "exang       False\n",
       "oldpeak     False\n",
       "slope       False\n",
       "ca          False\n",
       "thal        False\n",
       "target      False\n",
       "dtype: bool"
      ]
     },
     "execution_count": 350,
     "metadata": {},
     "output_type": "execute_result"
    }
   ],
   "source": [
    "df.isnull().any()"
   ]
  },
  {
   "cell_type": "code",
   "execution_count": 351,
   "id": "c5e58b24",
   "metadata": {},
   "outputs": [
    {
     "name": "stdout",
     "output_type": "stream",
     "text": [
      "<class 'pandas.core.frame.DataFrame'>\n",
      "RangeIndex: 340 entries, 0 to 339\n",
      "Data columns (total 17 columns):\n",
      " #   Column    Non-Null Count  Dtype  \n",
      "---  ------    --------------  -----  \n",
      " 0   pid       340 non-null    int64  \n",
      " 1   age       340 non-null    int64  \n",
      " 2   sex       340 non-null    object \n",
      " 3   cp        322 non-null    object \n",
      " 4   trestbps  340 non-null    int64  \n",
      " 5   chol      340 non-null    int64  \n",
      " 6   famhist   340 non-null    object \n",
      " 7   fbs       340 non-null    bool   \n",
      " 8   restecg   318 non-null    object \n",
      " 9   smoke     340 non-null    object \n",
      " 10  thalach   340 non-null    int64  \n",
      " 11  exang     340 non-null    object \n",
      " 12  oldpeak   340 non-null    float64\n",
      " 13  slope     340 non-null    int64  \n",
      " 14  ca        340 non-null    int64  \n",
      " 15  thal      340 non-null    int64  \n",
      " 16  target    340 non-null    int64  \n",
      "dtypes: bool(1), float64(1), int64(9), object(6)\n",
      "memory usage: 43.0+ KB\n"
     ]
    }
   ],
   "source": [
    "df.info()\n"
   ]
  },
  {
   "cell_type": "code",
   "execution_count": 352,
   "id": "264f34c3",
   "metadata": {
    "scrolled": false
   },
   "outputs": [
    {
     "name": "stdout",
     "output_type": "stream",
     "text": [
      "target      1.000000\n",
      "pid         0.699924\n",
      "thalach     0.448531\n",
      "oldpeak     0.436794\n",
      "ca          0.344310\n",
      "slope       0.341610\n",
      "thal        0.333058\n",
      "age         0.230205\n",
      "trestbps    0.119044\n",
      "chol        0.086314\n",
      "fbs         0.035609\n",
      "Name: target, dtype: float64\n"
     ]
    }
   ],
   "source": [
    "print(df.corr()[\"target\"].abs().sort_values(ascending=False))"
   ]
  },
  {
   "cell_type": "markdown",
   "id": "cce5b29f",
   "metadata": {},
   "source": [
    "# 1. Data Preprocessing"
   ]
  },
  {
   "cell_type": "markdown",
   "id": "8247fa95",
   "metadata": {},
   "source": [
    "# 1.1 Data Cleaning (Handling Missing Values)"
   ]
  },
  {
   "cell_type": "code",
   "execution_count": 353,
   "id": "10349674",
   "metadata": {},
   "outputs": [],
   "source": [
    "# Data Cleaning (Handling Missing Values)\n",
    "df.dropna(inplace= True)"
   ]
  },
  {
   "cell_type": "markdown",
   "id": "d6d7539d",
   "metadata": {},
   "source": [
    "# 1.2 Data Reduction"
   ]
  },
  {
   "cell_type": "code",
   "execution_count": 354,
   "id": "2e1975aa",
   "metadata": {},
   "outputs": [],
   "source": [
    "# Data Reduction\n",
    "df.drop(['pid','smoke','famhist'],axis='columns', inplace=True)"
   ]
  },
  {
   "cell_type": "code",
   "execution_count": 355,
   "id": "e226d012",
   "metadata": {},
   "outputs": [
    {
     "data": {
      "text/plain": [
       "(303, 14)"
      ]
     },
     "execution_count": 355,
     "metadata": {},
     "output_type": "execute_result"
    }
   ],
   "source": [
    "df.shape"
   ]
  },
  {
   "cell_type": "code",
   "execution_count": 356,
   "id": "c2c93180",
   "metadata": {},
   "outputs": [
    {
     "data": {
      "text/html": [
       "<div>\n",
       "<style scoped>\n",
       "    .dataframe tbody tr th:only-of-type {\n",
       "        vertical-align: middle;\n",
       "    }\n",
       "\n",
       "    .dataframe tbody tr th {\n",
       "        vertical-align: top;\n",
       "    }\n",
       "\n",
       "    .dataframe thead th {\n",
       "        text-align: right;\n",
       "    }\n",
       "</style>\n",
       "<table border=\"1\" class=\"dataframe\">\n",
       "  <thead>\n",
       "    <tr style=\"text-align: right;\">\n",
       "      <th></th>\n",
       "      <th>age</th>\n",
       "      <th>sex</th>\n",
       "      <th>cp</th>\n",
       "      <th>trestbps</th>\n",
       "      <th>chol</th>\n",
       "      <th>fbs</th>\n",
       "      <th>restecg</th>\n",
       "      <th>thalach</th>\n",
       "      <th>exang</th>\n",
       "      <th>oldpeak</th>\n",
       "      <th>slope</th>\n",
       "      <th>ca</th>\n",
       "      <th>thal</th>\n",
       "      <th>target</th>\n",
       "    </tr>\n",
       "  </thead>\n",
       "  <tbody>\n",
       "    <tr>\n",
       "      <th>0</th>\n",
       "      <td>63</td>\n",
       "      <td>M</td>\n",
       "      <td>Asymtomatic</td>\n",
       "      <td>145</td>\n",
       "      <td>233</td>\n",
       "      <td>True</td>\n",
       "      <td>normal</td>\n",
       "      <td>150</td>\n",
       "      <td>no</td>\n",
       "      <td>2.3</td>\n",
       "      <td>0</td>\n",
       "      <td>0</td>\n",
       "      <td>1</td>\n",
       "      <td>1</td>\n",
       "    </tr>\n",
       "    <tr>\n",
       "      <th>1</th>\n",
       "      <td>37</td>\n",
       "      <td>M</td>\n",
       "      <td>Non-Angina pain</td>\n",
       "      <td>130</td>\n",
       "      <td>250</td>\n",
       "      <td>False</td>\n",
       "      <td>ST-T wave abnormality</td>\n",
       "      <td>187</td>\n",
       "      <td>no</td>\n",
       "      <td>3.5</td>\n",
       "      <td>0</td>\n",
       "      <td>0</td>\n",
       "      <td>2</td>\n",
       "      <td>1</td>\n",
       "    </tr>\n",
       "    <tr>\n",
       "      <th>2</th>\n",
       "      <td>41</td>\n",
       "      <td>F</td>\n",
       "      <td>Atypical Angina</td>\n",
       "      <td>130</td>\n",
       "      <td>204</td>\n",
       "      <td>False</td>\n",
       "      <td>normal</td>\n",
       "      <td>172</td>\n",
       "      <td>no</td>\n",
       "      <td>1.4</td>\n",
       "      <td>2</td>\n",
       "      <td>0</td>\n",
       "      <td>2</td>\n",
       "      <td>1</td>\n",
       "    </tr>\n",
       "    <tr>\n",
       "      <th>3</th>\n",
       "      <td>56</td>\n",
       "      <td>M</td>\n",
       "      <td>Atypical Angina</td>\n",
       "      <td>120</td>\n",
       "      <td>236</td>\n",
       "      <td>False</td>\n",
       "      <td>ST-T wave abnormality</td>\n",
       "      <td>178</td>\n",
       "      <td>no</td>\n",
       "      <td>0.8</td>\n",
       "      <td>2</td>\n",
       "      <td>0</td>\n",
       "      <td>2</td>\n",
       "      <td>1</td>\n",
       "    </tr>\n",
       "    <tr>\n",
       "      <th>8</th>\n",
       "      <td>57</td>\n",
       "      <td>F</td>\n",
       "      <td>Typical Angina</td>\n",
       "      <td>120</td>\n",
       "      <td>354</td>\n",
       "      <td>False</td>\n",
       "      <td>ST-T wave abnormality</td>\n",
       "      <td>163</td>\n",
       "      <td>yes</td>\n",
       "      <td>0.6</td>\n",
       "      <td>2</td>\n",
       "      <td>0</td>\n",
       "      <td>2</td>\n",
       "      <td>1</td>\n",
       "    </tr>\n",
       "  </tbody>\n",
       "</table>\n",
       "</div>"
      ],
      "text/plain": [
       "   age sex               cp  trestbps  chol    fbs                restecg  \\\n",
       "0   63   M      Asymtomatic       145   233   True                 normal   \n",
       "1   37   M  Non-Angina pain       130   250  False  ST-T wave abnormality   \n",
       "2   41   F  Atypical Angina       130   204  False                 normal   \n",
       "3   56   M  Atypical Angina       120   236  False  ST-T wave abnormality   \n",
       "8   57   F   Typical Angina       120   354  False  ST-T wave abnormality   \n",
       "\n",
       "   thalach exang  oldpeak  slope  ca  thal  target  \n",
       "0      150    no      2.3      0   0     1       1  \n",
       "1      187    no      3.5      0   0     2       1  \n",
       "2      172    no      1.4      2   0     2       1  \n",
       "3      178    no      0.8      2   0     2       1  \n",
       "8      163   yes      0.6      2   0     2       1  "
      ]
     },
     "execution_count": 356,
     "metadata": {},
     "output_type": "execute_result"
    }
   ],
   "source": [
    "df.head()"
   ]
  },
  {
   "cell_type": "markdown",
   "id": "8eca7ec7",
   "metadata": {},
   "source": [
    "# 1.3 Data Encoding"
   ]
  },
  {
   "cell_type": "code",
   "execution_count": 357,
   "id": "c91beaf4",
   "metadata": {},
   "outputs": [],
   "source": [
    "# Data Encoding\n",
    "df.loc[df[\"sex\"] == \"M\", \"sex\"] = 1\n",
    "df.loc[df[\"sex\"] == \"F\", \"sex\"] = 0"
   ]
  },
  {
   "cell_type": "code",
   "execution_count": 358,
   "id": "fafedc23",
   "metadata": {},
   "outputs": [],
   "source": [
    "df.loc[df[\"cp\"] == \"Typical Angina\", \"cp\"] = 1\n",
    "df.loc[df[\"cp\"] == \"Atypical Angina\", \"cp\"] =2 \n",
    "df.loc[df[\"cp\"] == \"Non-Angina pain\", \"cp\"] =3 \n",
    "df.loc[df[\"cp\"] == \"Asymtomatic\", \"cp\"] =4"
   ]
  },
  {
   "cell_type": "code",
   "execution_count": 359,
   "id": "9ac0a7d4",
   "metadata": {},
   "outputs": [],
   "source": [
    "df.loc[df[\"restecg\"] == \"normal\", \"restecg\"] =0\n",
    "df.loc[df[\"restecg\"] == \"ST-T wave abnormality\", \"restecg\"] =1\n",
    "df.loc[df[\"restecg\"] == \"left ventricular hypertrophy\", \"restecg\"] =2"
   ]
  },
  {
   "cell_type": "code",
   "execution_count": 360,
   "id": "1bf371d4",
   "metadata": {},
   "outputs": [
    {
     "data": {
      "text/plain": [
       "age           int64\n",
       "sex          object\n",
       "cp           object\n",
       "trestbps      int64\n",
       "chol          int64\n",
       "fbs           int32\n",
       "restecg      object\n",
       "thalach       int64\n",
       "exang        object\n",
       "oldpeak     float64\n",
       "slope         int64\n",
       "ca            int64\n",
       "thal          int64\n",
       "target        int64\n",
       "dtype: object"
      ]
     },
     "execution_count": 360,
     "metadata": {},
     "output_type": "execute_result"
    }
   ],
   "source": [
    "df.fbs = df.fbs.astype('int') \n",
    "df.dtypes"
   ]
  },
  {
   "cell_type": "code",
   "execution_count": 361,
   "id": "cd6e3446",
   "metadata": {},
   "outputs": [],
   "source": [
    "df.loc[df[\"exang\"] == \"no\", \"exang\"] =0\n",
    "df.loc[df[\"exang\"] == \"yes\", \"exang\"] =1"
   ]
  },
  {
   "cell_type": "code",
   "execution_count": 362,
   "id": "983fdcf5",
   "metadata": {},
   "outputs": [
    {
     "name": "stdout",
     "output_type": "stream",
     "text": [
      "target      1.000000\n",
      "oldpeak     0.430696\n",
      "thalach     0.421741\n",
      "ca          0.391724\n",
      "slope       0.345877\n",
      "thal        0.344029\n",
      "age         0.225439\n",
      "trestbps    0.144931\n",
      "chol        0.085239\n",
      "fbs         0.028046\n",
      "Name: target, dtype: float64\n"
     ]
    }
   ],
   "source": [
    "print(df.corr()[\"target\"].abs().sort_values(ascending=False))"
   ]
  },
  {
   "cell_type": "markdown",
   "id": "b70b0ce0",
   "metadata": {},
   "source": [
    "# Analysing various features of dataset."
   ]
  },
  {
   "cell_type": "markdown",
   "id": "ea2507b3",
   "metadata": {},
   "source": [
    "# 1. Analyze 'thal'"
   ]
  },
  {
   "cell_type": "code",
   "execution_count": 363,
   "id": "9e9deee9",
   "metadata": {},
   "outputs": [
    {
     "data": {
      "text/plain": [
       "array([1, 2, 3, 0], dtype=int64)"
      ]
     },
     "execution_count": 363,
     "metadata": {},
     "output_type": "execute_result"
    }
   ],
   "source": [
    "df[\"thal\"].unique()\n",
    "\n"
   ]
  },
  {
   "cell_type": "markdown",
   "id": "a1b96644",
   "metadata": {},
   "source": [
    "### Countplot:"
   ]
  },
  {
   "cell_type": "code",
   "execution_count": 364,
   "id": "dcce00ab",
   "metadata": {},
   "outputs": [
    {
     "data": {
      "text/plain": [
       "<AxesSubplot:xlabel='thal', ylabel='count'>"
      ]
     },
     "execution_count": 364,
     "metadata": {},
     "output_type": "execute_result"
    },
    {
     "data": {
      "image/png": "[encoded data removed]",
      "text/plain": [
       "<Figure size 432x288 with 1 Axes>"
      ]
     },
     "metadata": {
      "needs_background": "light"
     },
     "output_type": "display_data"
    }
   ],
   "source": [
    "sns.countplot(x=df[\"thal\"])"
   ]
  },
  {
   "cell_type": "markdown",
   "id": "2f6e88c5",
   "metadata": {},
   "source": [
    "### Barplot:"
   ]
  },
  {
   "cell_type": "code",
   "execution_count": 365,
   "id": "f7afb65b",
   "metadata": {
    "scrolled": false
   },
   "outputs": [
    {
     "data": {
      "text/plain": [
       "<AxesSubplot:xlabel='thal', ylabel='target'>"
      ]
     },
     "execution_count": 365,
     "metadata": {},
     "output_type": "execute_result"
    },
    {
     "data": {
      "image/png": "[encoded data removed]",
      "text/plain": [
       "<Figure size 432x288 with 1 Axes>"
      ]
     },
     "metadata": {
      "needs_background": "light"
     },
     "output_type": "display_data"
    }
   ],
   "source": [
    "sns.barplot(x = df[\"thal\"],y = df[\"target\"])"
   ]
  },
  {
   "cell_type": "markdown",
   "id": "4fe81437",
   "metadata": {},
   "source": [
    "# 2. Analyze \"sex\""
   ]
  },
  {
   "cell_type": "code",
   "execution_count": 366,
   "id": "2713a262",
   "metadata": {},
   "outputs": [
    {
     "data": {
      "text/plain": [
       "array([1, 0], dtype=object)"
      ]
     },
     "execution_count": 366,
     "metadata": {},
     "output_type": "execute_result"
    }
   ],
   "source": [
    "df[\"sex\"].unique()"
   ]
  },
  {
   "cell_type": "markdown",
   "id": "6f9dbe54",
   "metadata": {},
   "source": [
    "### Countplot:"
   ]
  },
  {
   "cell_type": "code",
   "execution_count": 367,
   "id": "000b347b",
   "metadata": {},
   "outputs": [
    {
     "data": {
      "text/plain": [
       "<AxesSubplot:xlabel='sex', ylabel='count'>"
      ]
     },
     "execution_count": 367,
     "metadata": {},
     "output_type": "execute_result"
    },
    {
     "data": {
      "image/png": "[encoded data removed]",
      "text/plain": [
       "<Figure size 432x288 with 1 Axes>"
      ]
     },
     "metadata": {
      "needs_background": "light"
     },
     "output_type": "display_data"
    }
   ],
   "source": [
    "sns.countplot(x=df[\"sex\"])"
   ]
  },
  {
   "cell_type": "markdown",
   "id": "3a922414",
   "metadata": {},
   "source": [
    "### Barplot:"
   ]
  },
  {
   "cell_type": "code",
   "execution_count": 368,
   "id": "d0e11fc5",
   "metadata": {},
   "outputs": [
    {
     "data": {
      "text/plain": [
       "<AxesSubplot:xlabel='sex', ylabel='target'>"
      ]
     },
     "execution_count": 368,
     "metadata": {},
     "output_type": "execute_result"
    },
    {
     "data": {
      "image/png": "[encoded data removed]",
      "text/plain": [
       "<Figure size 432x288 with 1 Axes>"
      ]
     },
     "metadata": {
      "needs_background": "light"
     },
     "output_type": "display_data"
    }
   ],
   "source": [
    "sns.barplot(x=df[\"sex\"],y=df[\"target\"])"
   ]
  },
  {
   "cell_type": "markdown",
   "id": "ee83533a",
   "metadata": {},
   "source": [
    "# 3. Analyze \"ca\"."
   ]
  },
  {
   "cell_type": "code",
   "execution_count": 369,
   "id": "b67283d3",
   "metadata": {},
   "outputs": [
    {
     "data": {
      "text/plain": [
       "array([0, 2, 1, 3, 4], dtype=int64)"
      ]
     },
     "execution_count": 369,
     "metadata": {},
     "output_type": "execute_result"
    }
   ],
   "source": [
    "df[\"ca\"].unique()"
   ]
  },
  {
   "cell_type": "markdown",
   "id": "c14e11d5",
   "metadata": {},
   "source": [
    "### Countplot:"
   ]
  },
  {
   "cell_type": "code",
   "execution_count": 370,
   "id": "bd6fbf30",
   "metadata": {},
   "outputs": [
    {
     "data": {
      "text/plain": [
       "<AxesSubplot:xlabel='ca', ylabel='count'>"
      ]
     },
     "execution_count": 370,
     "metadata": {},
     "output_type": "execute_result"
    },
    {
     "data": {
      "image/png": "[encoded data removed]",
      "text/plain": [
       "<Figure size 432x288 with 1 Axes>"
      ]
     },
     "metadata": {
      "needs_background": "light"
     },
     "output_type": "display_data"
    }
   ],
   "source": [
    "sns.countplot(x=df[\"ca\"])"
   ]
  },
  {
   "cell_type": "markdown",
   "id": "8c878a33",
   "metadata": {},
   "source": [
    "### Barplot:"
   ]
  },
  {
   "cell_type": "code",
   "execution_count": 371,
   "id": "7c9e641f",
   "metadata": {},
   "outputs": [
    {
     "data": {
      "text/plain": [
       "<AxesSubplot:xlabel='ca', ylabel='target'>"
      ]
     },
     "execution_count": 371,
     "metadata": {},
     "output_type": "execute_result"
    },
    {
     "data": {
      "image/png": "[encoded data removed]",
      "text/plain": [
       "<Figure size 432x288 with 1 Axes>"
      ]
     },
     "metadata": {
      "needs_background": "light"
     },
     "output_type": "display_data"
    }
   ],
   "source": [
    "sns.barplot(x=df[\"ca\"],y=df[\"target\"])"
   ]
  },
  {
   "cell_type": "markdown",
   "id": "0e3d1ebb",
   "metadata": {},
   "source": [
    "# 4. Analyze \"cp\""
   ]
  },
  {
   "cell_type": "code",
   "execution_count": 372,
   "id": "983ca66e",
   "metadata": {},
   "outputs": [
    {
     "data": {
      "text/plain": [
       "array([4, 3, 2, 1], dtype=object)"
      ]
     },
     "execution_count": 372,
     "metadata": {},
     "output_type": "execute_result"
    }
   ],
   "source": [
    "df[\"cp\"].unique()"
   ]
  },
  {
   "cell_type": "markdown",
   "id": "76b26d92",
   "metadata": {},
   "source": [
    "### Countplot:"
   ]
  },
  {
   "cell_type": "code",
   "execution_count": 373,
   "id": "1bacb6f0",
   "metadata": {},
   "outputs": [
    {
     "data": {
      "text/plain": [
       "<AxesSubplot:xlabel='cp', ylabel='count'>"
      ]
     },
     "execution_count": 373,
     "metadata": {},
     "output_type": "execute_result"
    },
    {
     "data": {
      "image/png": "[encoded data removed]",
      "text/plain": [
       "<Figure size 432x288 with 1 Axes>"
      ]
     },
     "metadata": {
      "needs_background": "light"
     },
     "output_type": "display_data"
    }
   ],
   "source": [
    "sns.countplot(x=df[\"cp\"])"
   ]
  },
  {
   "cell_type": "markdown",
   "id": "91a1d84a",
   "metadata": {},
   "source": [
    "### Barplot:"
   ]
  },
  {
   "cell_type": "code",
   "execution_count": 374,
   "id": "1508ebd1",
   "metadata": {},
   "outputs": [
    {
     "data": {
      "text/plain": [
       "<AxesSubplot:xlabel='cp', ylabel='target'>"
      ]
     },
     "execution_count": 374,
     "metadata": {},
     "output_type": "execute_result"
    },
    {
     "data": {
      "image/png": "[encoded data removed]",
      "text/plain": [
       "<Figure size 432x288 with 1 Axes>"
      ]
     },
     "metadata": {
      "needs_background": "light"
     },
     "output_type": "display_data"
    }
   ],
   "source": [
    "sns.barplot(x=df[\"cp\"],y=df[\"target\"])"
   ]
  },
  {
   "cell_type": "markdown",
   "id": "49e85fa0",
   "metadata": {},
   "source": [
    "# 5. Analyze \"slope\""
   ]
  },
  {
   "cell_type": "code",
   "execution_count": 375,
   "id": "235ef9b8",
   "metadata": {},
   "outputs": [
    {
     "data": {
      "text/plain": [
       "array([0, 2, 1], dtype=int64)"
      ]
     },
     "execution_count": 375,
     "metadata": {},
     "output_type": "execute_result"
    }
   ],
   "source": [
    "df[\"slope\"].unique()"
   ]
  },
  {
   "cell_type": "markdown",
   "id": "e7eded5a",
   "metadata": {},
   "source": [
    "### Countplot:"
   ]
  },
  {
   "cell_type": "code",
   "execution_count": 376,
   "id": "2e09038f",
   "metadata": {},
   "outputs": [
    {
     "data": {
      "text/plain": [
       "<AxesSubplot:xlabel='slope', ylabel='count'>"
      ]
     },
     "execution_count": 376,
     "metadata": {},
     "output_type": "execute_result"
    },
    {
     "data": {
      "image/png": "[encoded data removed]",
      "text/plain": [
       "<Figure size 432x288 with 1 Axes>"
      ]
     },
     "metadata": {
      "needs_background": "light"
     },
     "output_type": "display_data"
    }
   ],
   "source": [
    "sns.countplot(x=df[\"slope\"])"
   ]
  },
  {
   "cell_type": "markdown",
   "id": "e39824d6",
   "metadata": {},
   "source": [
    "### Barplot:"
   ]
  },
  {
   "cell_type": "code",
   "execution_count": 377,
   "id": "6c9229a3",
   "metadata": {},
   "outputs": [
    {
     "data": {
      "text/plain": [
       "<AxesSubplot:xlabel='slope', ylabel='target'>"
      ]
     },
     "execution_count": 377,
     "metadata": {},
     "output_type": "execute_result"
    },
    {
     "data": {
      "image/png": "[encoded data removed]",
      "text/plain": [
       "<Figure size 432x288 with 1 Axes>"
      ]
     },
     "metadata": {
      "needs_background": "light"
     },
     "output_type": "display_data"
    }
   ],
   "source": [
    "sns.barplot(x=df[\"slope\"],y=df[\"target\"])"
   ]
  },
  {
   "cell_type": "markdown",
   "id": "483b9021",
   "metadata": {},
   "source": [
    "# 6. Analyze \"fbs\""
   ]
  },
  {
   "cell_type": "code",
   "execution_count": 378,
   "id": "fc0e4957",
   "metadata": {},
   "outputs": [
    {
     "data": {
      "text/plain": [
       "array([1, 0])"
      ]
     },
     "execution_count": 378,
     "metadata": {},
     "output_type": "execute_result"
    }
   ],
   "source": [
    "df[\"fbs\"].unique()"
   ]
  },
  {
   "cell_type": "markdown",
   "id": "3bf1be5f",
   "metadata": {},
   "source": [
    "### Countplot:"
   ]
  },
  {
   "cell_type": "code",
   "execution_count": 379,
   "id": "deb224a5",
   "metadata": {},
   "outputs": [
    {
     "data": {
      "text/plain": [
       "<AxesSubplot:xlabel='fbs', ylabel='count'>"
      ]
     },
     "execution_count": 379,
     "metadata": {},
     "output_type": "execute_result"
    },
    {
     "data": {
      "image/png": "[encoded data removed]",
      "text/plain": [
       "<Figure size 432x288 with 1 Axes>"
      ]
     },
     "metadata": {
      "needs_background": "light"
     },
     "output_type": "display_data"
    }
   ],
   "source": [
    "sns.countplot(x=df[\"fbs\"])"
   ]
  },
  {
   "cell_type": "markdown",
   "id": "703cb2dc",
   "metadata": {},
   "source": [
    "### Barplot:"
   ]
  },
  {
   "cell_type": "code",
   "execution_count": 380,
   "id": "4e5b21bc",
   "metadata": {},
   "outputs": [
    {
     "data": {
      "text/plain": [
       "<AxesSubplot:xlabel='fbs', ylabel='target'>"
      ]
     },
     "execution_count": 380,
     "metadata": {},
     "output_type": "execute_result"
    },
    {
     "data": {
      "image/png": "[encoded data removed]",
      "text/plain": [
       "<Figure size 432x288 with 1 Axes>"
      ]
     },
     "metadata": {
      "needs_background": "light"
     },
     "output_type": "display_data"
    }
   ],
   "source": [
    "sns.barplot(x=df[\"fbs\"],y=df[\"target\"])"
   ]
  },
  {
   "cell_type": "markdown",
   "id": "fa6c8e18",
   "metadata": {},
   "source": [
    "# 7. Analyze \"exang\""
   ]
  },
  {
   "cell_type": "code",
   "execution_count": 381,
   "id": "3d82c97e",
   "metadata": {},
   "outputs": [
    {
     "data": {
      "text/plain": [
       "array([0, 1], dtype=object)"
      ]
     },
     "execution_count": 381,
     "metadata": {},
     "output_type": "execute_result"
    }
   ],
   "source": [
    "df[\"exang\"].unique()"
   ]
  },
  {
   "cell_type": "markdown",
   "id": "ba54af49",
   "metadata": {},
   "source": [
    "### Countplot:"
   ]
  },
  {
   "cell_type": "code",
   "execution_count": 382,
   "id": "87211796",
   "metadata": {},
   "outputs": [
    {
     "data": {
      "text/plain": [
       "<AxesSubplot:xlabel='exang', ylabel='count'>"
      ]
     },
     "execution_count": 382,
     "metadata": {},
     "output_type": "execute_result"
    },
    {
     "data": {
      "image/png": "[encoded data removed]",
      "text/plain": [
       "<Figure size 432x288 with 1 Axes>"
      ]
     },
     "metadata": {
      "needs_background": "light"
     },
     "output_type": "display_data"
    }
   ],
   "source": [
    "sns.countplot(x=df[\"exang\"])"
   ]
  },
  {
   "cell_type": "markdown",
   "id": "522ee109",
   "metadata": {},
   "source": [
    "### Barplot:"
   ]
  },
  {
   "cell_type": "code",
   "execution_count": 383,
   "id": "79c7f144",
   "metadata": {},
   "outputs": [
    {
     "data": {
      "text/plain": [
       "<AxesSubplot:xlabel='exang', ylabel='target'>"
      ]
     },
     "execution_count": 383,
     "metadata": {},
     "output_type": "execute_result"
    },
    {
     "data": {
      "image/png": "[encoded data removed]",
      "text/plain": [
       "<Figure size 432x288 with 1 Axes>"
      ]
     },
     "metadata": {
      "needs_background": "light"
     },
     "output_type": "display_data"
    }
   ],
   "source": [
    "sns.barplot(x=df[\"exang\"],y=df[\"target\"])"
   ]
  },
  {
   "cell_type": "markdown",
   "id": "770da714",
   "metadata": {},
   "source": [
    "# 8. Analyze \"restecg\""
   ]
  },
  {
   "cell_type": "code",
   "execution_count": 384,
   "id": "15d6f82c",
   "metadata": {},
   "outputs": [
    {
     "data": {
      "text/plain": [
       "array([0, 1, 2], dtype=object)"
      ]
     },
     "execution_count": 384,
     "metadata": {},
     "output_type": "execute_result"
    }
   ],
   "source": [
    "df[\"restecg\"].unique()"
   ]
  },
  {
   "cell_type": "markdown",
   "id": "b324be63",
   "metadata": {},
   "source": [
    "### Countplot:"
   ]
  },
  {
   "cell_type": "code",
   "execution_count": 385,
   "id": "0e36c2f3",
   "metadata": {},
   "outputs": [
    {
     "data": {
      "text/plain": [
       "<AxesSubplot:xlabel='restecg', ylabel='count'>"
      ]
     },
     "execution_count": 385,
     "metadata": {},
     "output_type": "execute_result"
    },
    {
     "data": {
      "image/png": "[encoded data removed]",
      "text/plain": [
       "<Figure size 432x288 with 1 Axes>"
      ]
     },
     "metadata": {
      "needs_background": "light"
     },
     "output_type": "display_data"
    }
   ],
   "source": [
    "sns.countplot(x=df[\"restecg\"])"
   ]
  },
  {
   "cell_type": "markdown",
   "id": "0081670d",
   "metadata": {},
   "source": [
    "### Barplot:"
   ]
  },
  {
   "cell_type": "code",
   "execution_count": 386,
   "id": "10270abb",
   "metadata": {},
   "outputs": [
    {
     "data": {
      "text/plain": [
       "<AxesSubplot:xlabel='restecg', ylabel='target'>"
      ]
     },
     "execution_count": 386,
     "metadata": {},
     "output_type": "execute_result"
    },
    {
     "data": {
      "image/png": "[encoded data removed]",
      "text/plain": [
       "<Figure size 432x288 with 1 Axes>"
      ]
     },
     "metadata": {
      "needs_background": "light"
     },
     "output_type": "display_data"
    }
   ],
   "source": [
    "sns.barplot(x=df[\"restecg\"],y=df[\"target\"])"
   ]
  },
  {
   "cell_type": "markdown",
   "id": "6c9b0c7a",
   "metadata": {},
   "source": [
    "# Analyze the output variable"
   ]
  },
  {
   "cell_type": "code",
   "execution_count": 387,
   "id": "1116f6ab",
   "metadata": {},
   "outputs": [
    {
     "data": {
      "text/plain": [
       "count    303.000000\n",
       "mean       0.544554\n",
       "std        0.498835\n",
       "min        0.000000\n",
       "25%        0.000000\n",
       "50%        1.000000\n",
       "75%        1.000000\n",
       "max        1.000000\n",
       "Name: target, dtype: float64"
      ]
     },
     "execution_count": 387,
     "metadata": {},
     "output_type": "execute_result"
    }
   ],
   "source": [
    "df[\"target\"].describe()"
   ]
  },
  {
   "cell_type": "code",
   "execution_count": 388,
   "id": "261e0ba5",
   "metadata": {},
   "outputs": [
    {
     "data": {
      "text/plain": [
       "array([1, 0], dtype=int64)"
      ]
     },
     "execution_count": 388,
     "metadata": {},
     "output_type": "execute_result"
    }
   ],
   "source": [
    "df[\"target\"].unique()"
   ]
  },
  {
   "cell_type": "markdown",
   "id": "1182ab92",
   "metadata": {},
   "source": [
    "### Countplot:"
   ]
  },
  {
   "cell_type": "code",
   "execution_count": 389,
   "id": "b025d4de",
   "metadata": {},
   "outputs": [
    {
     "data": {
      "text/plain": [
       "<AxesSubplot:xlabel='target', ylabel='count'>"
      ]
     },
     "execution_count": 389,
     "metadata": {},
     "output_type": "execute_result"
    },
    {
     "data": {
      "image/png": "[encoded data removed]",
      "text/plain": [
       "<Figure size 432x288 with 1 Axes>"
      ]
     },
     "metadata": {
      "needs_background": "light"
     },
     "output_type": "display_data"
    }
   ],
   "source": [
    "sns.countplot(x=df[\"target\"])"
   ]
  },
  {
   "cell_type": "markdown",
   "id": "699cd960",
   "metadata": {},
   "source": [
    "# Again exploring the dataset"
   ]
  },
  {
   "cell_type": "code",
   "execution_count": 390,
   "id": "203a5594",
   "metadata": {},
   "outputs": [
    {
     "data": {
      "text/plain": [
       "(303, 14)"
      ]
     },
     "execution_count": 390,
     "metadata": {},
     "output_type": "execute_result"
    }
   ],
   "source": [
    "# Again exploring the dataset\n",
    "df.shape"
   ]
  },
  {
   "cell_type": "code",
   "execution_count": 391,
   "id": "418e1b02",
   "metadata": {},
   "outputs": [
    {
     "data": {
      "text/html": [
       "<div>\n",
       "<style scoped>\n",
       "    .dataframe tbody tr th:only-of-type {\n",
       "        vertical-align: middle;\n",
       "    }\n",
       "\n",
       "    .dataframe tbody tr th {\n",
       "        vertical-align: top;\n",
       "    }\n",
       "\n",
       "    .dataframe thead th {\n",
       "        text-align: right;\n",
       "    }\n",
       "</style>\n",
       "<table border=\"1\" class=\"dataframe\">\n",
       "  <thead>\n",
       "    <tr style=\"text-align: right;\">\n",
       "      <th></th>\n",
       "      <th>age</th>\n",
       "      <th>sex</th>\n",
       "      <th>cp</th>\n",
       "      <th>trestbps</th>\n",
       "      <th>chol</th>\n",
       "      <th>fbs</th>\n",
       "      <th>restecg</th>\n",
       "      <th>thalach</th>\n",
       "      <th>exang</th>\n",
       "      <th>oldpeak</th>\n",
       "      <th>slope</th>\n",
       "      <th>ca</th>\n",
       "      <th>thal</th>\n",
       "      <th>target</th>\n",
       "    </tr>\n",
       "  </thead>\n",
       "  <tbody>\n",
       "    <tr>\n",
       "      <th>0</th>\n",
       "      <td>63</td>\n",
       "      <td>1</td>\n",
       "      <td>4</td>\n",
       "      <td>145</td>\n",
       "      <td>233</td>\n",
       "      <td>1</td>\n",
       "      <td>0</td>\n",
       "      <td>150</td>\n",
       "      <td>0</td>\n",
       "      <td>2.3</td>\n",
       "      <td>0</td>\n",
       "      <td>0</td>\n",
       "      <td>1</td>\n",
       "      <td>1</td>\n",
       "    </tr>\n",
       "    <tr>\n",
       "      <th>1</th>\n",
       "      <td>37</td>\n",
       "      <td>1</td>\n",
       "      <td>3</td>\n",
       "      <td>130</td>\n",
       "      <td>250</td>\n",
       "      <td>0</td>\n",
       "      <td>1</td>\n",
       "      <td>187</td>\n",
       "      <td>0</td>\n",
       "      <td>3.5</td>\n",
       "      <td>0</td>\n",
       "      <td>0</td>\n",
       "      <td>2</td>\n",
       "      <td>1</td>\n",
       "    </tr>\n",
       "    <tr>\n",
       "      <th>2</th>\n",
       "      <td>41</td>\n",
       "      <td>0</td>\n",
       "      <td>2</td>\n",
       "      <td>130</td>\n",
       "      <td>204</td>\n",
       "      <td>0</td>\n",
       "      <td>0</td>\n",
       "      <td>172</td>\n",
       "      <td>0</td>\n",
       "      <td>1.4</td>\n",
       "      <td>2</td>\n",
       "      <td>0</td>\n",
       "      <td>2</td>\n",
       "      <td>1</td>\n",
       "    </tr>\n",
       "    <tr>\n",
       "      <th>3</th>\n",
       "      <td>56</td>\n",
       "      <td>1</td>\n",
       "      <td>2</td>\n",
       "      <td>120</td>\n",
       "      <td>236</td>\n",
       "      <td>0</td>\n",
       "      <td>1</td>\n",
       "      <td>178</td>\n",
       "      <td>0</td>\n",
       "      <td>0.8</td>\n",
       "      <td>2</td>\n",
       "      <td>0</td>\n",
       "      <td>2</td>\n",
       "      <td>1</td>\n",
       "    </tr>\n",
       "    <tr>\n",
       "      <th>8</th>\n",
       "      <td>57</td>\n",
       "      <td>0</td>\n",
       "      <td>1</td>\n",
       "      <td>120</td>\n",
       "      <td>354</td>\n",
       "      <td>0</td>\n",
       "      <td>1</td>\n",
       "      <td>163</td>\n",
       "      <td>1</td>\n",
       "      <td>0.6</td>\n",
       "      <td>2</td>\n",
       "      <td>0</td>\n",
       "      <td>2</td>\n",
       "      <td>1</td>\n",
       "    </tr>\n",
       "  </tbody>\n",
       "</table>\n",
       "</div>"
      ],
      "text/plain": [
       "   age sex cp  trestbps  chol  fbs restecg  thalach exang  oldpeak  slope  ca  \\\n",
       "0   63   1  4       145   233    1       0      150     0      2.3      0   0   \n",
       "1   37   1  3       130   250    0       1      187     0      3.5      0   0   \n",
       "2   41   0  2       130   204    0       0      172     0      1.4      2   0   \n",
       "3   56   1  2       120   236    0       1      178     0      0.8      2   0   \n",
       "8   57   0  1       120   354    0       1      163     1      0.6      2   0   \n",
       "\n",
       "   thal  target  \n",
       "0     1       1  \n",
       "1     2       1  \n",
       "2     2       1  \n",
       "3     2       1  \n",
       "8     2       1  "
      ]
     },
     "execution_count": 391,
     "metadata": {},
     "output_type": "execute_result"
    }
   ],
   "source": [
    "df.head()"
   ]
  },
  {
   "cell_type": "code",
   "execution_count": 392,
   "id": "3032bd2a",
   "metadata": {},
   "outputs": [
    {
     "data": {
      "text/html": [
       "<div>\n",
       "<style scoped>\n",
       "    .dataframe tbody tr th:only-of-type {\n",
       "        vertical-align: middle;\n",
       "    }\n",
       "\n",
       "    .dataframe tbody tr th {\n",
       "        vertical-align: top;\n",
       "    }\n",
       "\n",
       "    .dataframe thead th {\n",
       "        text-align: right;\n",
       "    }\n",
       "</style>\n",
       "<table border=\"1\" class=\"dataframe\">\n",
       "  <thead>\n",
       "    <tr style=\"text-align: right;\">\n",
       "      <th></th>\n",
       "      <th>age</th>\n",
       "      <th>sex</th>\n",
       "      <th>cp</th>\n",
       "      <th>trestbps</th>\n",
       "      <th>chol</th>\n",
       "      <th>fbs</th>\n",
       "      <th>restecg</th>\n",
       "      <th>thalach</th>\n",
       "      <th>exang</th>\n",
       "      <th>oldpeak</th>\n",
       "      <th>slope</th>\n",
       "      <th>ca</th>\n",
       "      <th>thal</th>\n",
       "      <th>target</th>\n",
       "    </tr>\n",
       "  </thead>\n",
       "  <tbody>\n",
       "    <tr>\n",
       "      <th>329</th>\n",
       "      <td>59</td>\n",
       "      <td>1</td>\n",
       "      <td>1</td>\n",
       "      <td>164</td>\n",
       "      <td>176</td>\n",
       "      <td>1</td>\n",
       "      <td>0</td>\n",
       "      <td>90</td>\n",
       "      <td>0</td>\n",
       "      <td>1.0</td>\n",
       "      <td>1</td>\n",
       "      <td>2</td>\n",
       "      <td>1</td>\n",
       "      <td>0</td>\n",
       "    </tr>\n",
       "    <tr>\n",
       "      <th>330</th>\n",
       "      <td>57</td>\n",
       "      <td>0</td>\n",
       "      <td>1</td>\n",
       "      <td>140</td>\n",
       "      <td>241</td>\n",
       "      <td>0</td>\n",
       "      <td>1</td>\n",
       "      <td>123</td>\n",
       "      <td>1</td>\n",
       "      <td>0.2</td>\n",
       "      <td>1</td>\n",
       "      <td>0</td>\n",
       "      <td>3</td>\n",
       "      <td>0</td>\n",
       "    </tr>\n",
       "    <tr>\n",
       "      <th>331</th>\n",
       "      <td>45</td>\n",
       "      <td>1</td>\n",
       "      <td>4</td>\n",
       "      <td>110</td>\n",
       "      <td>264</td>\n",
       "      <td>0</td>\n",
       "      <td>1</td>\n",
       "      <td>132</td>\n",
       "      <td>0</td>\n",
       "      <td>1.2</td>\n",
       "      <td>1</td>\n",
       "      <td>0</td>\n",
       "      <td>3</td>\n",
       "      <td>0</td>\n",
       "    </tr>\n",
       "    <tr>\n",
       "      <th>332</th>\n",
       "      <td>68</td>\n",
       "      <td>1</td>\n",
       "      <td>1</td>\n",
       "      <td>144</td>\n",
       "      <td>193</td>\n",
       "      <td>1</td>\n",
       "      <td>1</td>\n",
       "      <td>141</td>\n",
       "      <td>0</td>\n",
       "      <td>3.4</td>\n",
       "      <td>1</td>\n",
       "      <td>2</td>\n",
       "      <td>3</td>\n",
       "      <td>0</td>\n",
       "    </tr>\n",
       "    <tr>\n",
       "      <th>333</th>\n",
       "      <td>57</td>\n",
       "      <td>1</td>\n",
       "      <td>1</td>\n",
       "      <td>130</td>\n",
       "      <td>131</td>\n",
       "      <td>0</td>\n",
       "      <td>1</td>\n",
       "      <td>115</td>\n",
       "      <td>1</td>\n",
       "      <td>1.2</td>\n",
       "      <td>1</td>\n",
       "      <td>1</td>\n",
       "      <td>3</td>\n",
       "      <td>0</td>\n",
       "    </tr>\n",
       "  </tbody>\n",
       "</table>\n",
       "</div>"
      ],
      "text/plain": [
       "     age sex cp  trestbps  chol  fbs restecg  thalach exang  oldpeak  slope  \\\n",
       "329   59   1  1       164   176    1       0       90     0      1.0      1   \n",
       "330   57   0  1       140   241    0       1      123     1      0.2      1   \n",
       "331   45   1  4       110   264    0       1      132     0      1.2      1   \n",
       "332   68   1  1       144   193    1       1      141     0      3.4      1   \n",
       "333   57   1  1       130   131    0       1      115     1      1.2      1   \n",
       "\n",
       "     ca  thal  target  \n",
       "329   2     1       0  \n",
       "330   0     3       0  \n",
       "331   0     3       0  \n",
       "332   2     3       0  \n",
       "333   1     3       0  "
      ]
     },
     "execution_count": 392,
     "metadata": {},
     "output_type": "execute_result"
    }
   ],
   "source": [
    "df.tail()"
   ]
  },
  {
   "cell_type": "code",
   "execution_count": 393,
   "id": "84b53ace",
   "metadata": {},
   "outputs": [
    {
     "data": {
      "text/plain": [
       "age         False\n",
       "sex         False\n",
       "cp          False\n",
       "trestbps    False\n",
       "chol        False\n",
       "fbs         False\n",
       "restecg     False\n",
       "thalach     False\n",
       "exang       False\n",
       "oldpeak     False\n",
       "slope       False\n",
       "ca          False\n",
       "thal        False\n",
       "target      False\n",
       "dtype: bool"
      ]
     },
     "execution_count": 393,
     "metadata": {},
     "output_type": "execute_result"
    }
   ],
   "source": [
    "df.isnull().any()"
   ]
  },
  {
   "cell_type": "code",
   "execution_count": 394,
   "id": "1820c976",
   "metadata": {},
   "outputs": [
    {
     "data": {
      "text/html": [
       "<div>\n",
       "<style scoped>\n",
       "    .dataframe tbody tr th:only-of-type {\n",
       "        vertical-align: middle;\n",
       "    }\n",
       "\n",
       "    .dataframe tbody tr th {\n",
       "        vertical-align: top;\n",
       "    }\n",
       "\n",
       "    .dataframe thead th {\n",
       "        text-align: right;\n",
       "    }\n",
       "</style>\n",
       "<table border=\"1\" class=\"dataframe\">\n",
       "  <thead>\n",
       "    <tr style=\"text-align: right;\">\n",
       "      <th></th>\n",
       "      <th>age</th>\n",
       "      <th>sex</th>\n",
       "      <th>cp</th>\n",
       "      <th>trestbps</th>\n",
       "      <th>chol</th>\n",
       "      <th>fbs</th>\n",
       "      <th>restecg</th>\n",
       "      <th>thalach</th>\n",
       "      <th>exang</th>\n",
       "      <th>oldpeak</th>\n",
       "      <th>slope</th>\n",
       "      <th>ca</th>\n",
       "      <th>thal</th>\n",
       "      <th>target</th>\n",
       "    </tr>\n",
       "  </thead>\n",
       "  <tbody>\n",
       "    <tr>\n",
       "      <th>329</th>\n",
       "      <td>59</td>\n",
       "      <td>1</td>\n",
       "      <td>1</td>\n",
       "      <td>164</td>\n",
       "      <td>176</td>\n",
       "      <td>1</td>\n",
       "      <td>0</td>\n",
       "      <td>90</td>\n",
       "      <td>0</td>\n",
       "      <td>1.0</td>\n",
       "      <td>1</td>\n",
       "      <td>2</td>\n",
       "      <td>1</td>\n",
       "      <td>0</td>\n",
       "    </tr>\n",
       "    <tr>\n",
       "      <th>330</th>\n",
       "      <td>57</td>\n",
       "      <td>0</td>\n",
       "      <td>1</td>\n",
       "      <td>140</td>\n",
       "      <td>241</td>\n",
       "      <td>0</td>\n",
       "      <td>1</td>\n",
       "      <td>123</td>\n",
       "      <td>1</td>\n",
       "      <td>0.2</td>\n",
       "      <td>1</td>\n",
       "      <td>0</td>\n",
       "      <td>3</td>\n",
       "      <td>0</td>\n",
       "    </tr>\n",
       "    <tr>\n",
       "      <th>331</th>\n",
       "      <td>45</td>\n",
       "      <td>1</td>\n",
       "      <td>4</td>\n",
       "      <td>110</td>\n",
       "      <td>264</td>\n",
       "      <td>0</td>\n",
       "      <td>1</td>\n",
       "      <td>132</td>\n",
       "      <td>0</td>\n",
       "      <td>1.2</td>\n",
       "      <td>1</td>\n",
       "      <td>0</td>\n",
       "      <td>3</td>\n",
       "      <td>0</td>\n",
       "    </tr>\n",
       "    <tr>\n",
       "      <th>332</th>\n",
       "      <td>68</td>\n",
       "      <td>1</td>\n",
       "      <td>1</td>\n",
       "      <td>144</td>\n",
       "      <td>193</td>\n",
       "      <td>1</td>\n",
       "      <td>1</td>\n",
       "      <td>141</td>\n",
       "      <td>0</td>\n",
       "      <td>3.4</td>\n",
       "      <td>1</td>\n",
       "      <td>2</td>\n",
       "      <td>3</td>\n",
       "      <td>0</td>\n",
       "    </tr>\n",
       "    <tr>\n",
       "      <th>333</th>\n",
       "      <td>57</td>\n",
       "      <td>1</td>\n",
       "      <td>1</td>\n",
       "      <td>130</td>\n",
       "      <td>131</td>\n",
       "      <td>0</td>\n",
       "      <td>1</td>\n",
       "      <td>115</td>\n",
       "      <td>1</td>\n",
       "      <td>1.2</td>\n",
       "      <td>1</td>\n",
       "      <td>1</td>\n",
       "      <td>3</td>\n",
       "      <td>0</td>\n",
       "    </tr>\n",
       "  </tbody>\n",
       "</table>\n",
       "</div>"
      ],
      "text/plain": [
       "     age sex cp  trestbps  chol  fbs restecg  thalach exang  oldpeak  slope  \\\n",
       "329   59   1  1       164   176    1       0       90     0      1.0      1   \n",
       "330   57   0  1       140   241    0       1      123     1      0.2      1   \n",
       "331   45   1  4       110   264    0       1      132     0      1.2      1   \n",
       "332   68   1  1       144   193    1       1      141     0      3.4      1   \n",
       "333   57   1  1       130   131    0       1      115     1      1.2      1   \n",
       "\n",
       "     ca  thal  target  \n",
       "329   2     1       0  \n",
       "330   0     3       0  \n",
       "331   0     3       0  \n",
       "332   2     3       0  \n",
       "333   1     3       0  "
      ]
     },
     "execution_count": 394,
     "metadata": {},
     "output_type": "execute_result"
    }
   ],
   "source": [
    "df.tail()"
   ]
  },
  {
   "cell_type": "markdown",
   "id": "e6a8c7e9",
   "metadata": {},
   "source": [
    "# Dummy columns creation"
   ]
  },
  {
   "cell_type": "code",
   "execution_count": 395,
   "id": "ff7bb78e",
   "metadata": {},
   "outputs": [],
   "source": [
    "dataset = pd.get_dummies(df, columns=['sex', 'cp', 'fbs', 'restecg', 'exang', 'slope', 'ca', 'thal'])"
   ]
  },
  {
   "cell_type": "code",
   "execution_count": 396,
   "id": "9106e21b",
   "metadata": {},
   "outputs": [
    {
     "data": {
      "text/plain": [
       "Index(['age', 'trestbps', 'chol', 'thalach', 'oldpeak', 'target', 'sex_0',\n",
       "       'sex_1', 'cp_1', 'cp_2', 'cp_3', 'cp_4', 'fbs_0', 'fbs_1', 'restecg_0',\n",
       "       'restecg_1', 'restecg_2', 'exang_0', 'exang_1', 'slope_0', 'slope_1',\n",
       "       'slope_2', 'ca_0', 'ca_1', 'ca_2', 'ca_3', 'ca_4', 'thal_0', 'thal_1',\n",
       "       'thal_2', 'thal_3'],\n",
       "      dtype='object')"
      ]
     },
     "execution_count": 396,
     "metadata": {},
     "output_type": "execute_result"
    }
   ],
   "source": [
    "dataset.columns"
   ]
  },
  {
   "cell_type": "markdown",
   "id": "3d8ecda4",
   "metadata": {},
   "source": [
    "# 1.4 Normalization"
   ]
  },
  {
   "cell_type": "code",
   "execution_count": 397,
   "id": "f3c35573",
   "metadata": {},
   "outputs": [],
   "source": [
    "from sklearn.preprocessing import StandardScaler\n",
    "standScaler = StandardScaler()\n",
    "columns_to_scale = ['age', 'trestbps', 'chol', 'thalach', 'oldpeak']\n",
    "dataset[columns_to_scale] = standScaler.fit_transform(dataset[columns_to_scale])"
   ]
  },
  {
   "cell_type": "code",
   "execution_count": 398,
   "id": "57dcd8d3",
   "metadata": {},
   "outputs": [
    {
     "data": {
      "text/html": [
       "<div>\n",
       "<style scoped>\n",
       "    .dataframe tbody tr th:only-of-type {\n",
       "        vertical-align: middle;\n",
       "    }\n",
       "\n",
       "    .dataframe tbody tr th {\n",
       "        vertical-align: top;\n",
       "    }\n",
       "\n",
       "    .dataframe thead th {\n",
       "        text-align: right;\n",
       "    }\n",
       "</style>\n",
       "<table border=\"1\" class=\"dataframe\">\n",
       "  <thead>\n",
       "    <tr style=\"text-align: right;\">\n",
       "      <th></th>\n",
       "      <th>age</th>\n",
       "      <th>trestbps</th>\n",
       "      <th>chol</th>\n",
       "      <th>thalach</th>\n",
       "      <th>oldpeak</th>\n",
       "      <th>target</th>\n",
       "      <th>sex_0</th>\n",
       "      <th>sex_1</th>\n",
       "      <th>cp_1</th>\n",
       "      <th>cp_2</th>\n",
       "      <th>...</th>\n",
       "      <th>slope_2</th>\n",
       "      <th>ca_0</th>\n",
       "      <th>ca_1</th>\n",
       "      <th>ca_2</th>\n",
       "      <th>ca_3</th>\n",
       "      <th>ca_4</th>\n",
       "      <th>thal_0</th>\n",
       "      <th>thal_1</th>\n",
       "      <th>thal_2</th>\n",
       "      <th>thal_3</th>\n",
       "    </tr>\n",
       "  </thead>\n",
       "  <tbody>\n",
       "    <tr>\n",
       "      <th>0</th>\n",
       "      <td>0.952197</td>\n",
       "      <td>0.763956</td>\n",
       "      <td>-0.256334</td>\n",
       "      <td>0.015443</td>\n",
       "      <td>1.087338</td>\n",
       "      <td>1</td>\n",
       "      <td>0</td>\n",
       "      <td>1</td>\n",
       "      <td>0</td>\n",
       "      <td>0</td>\n",
       "      <td>...</td>\n",
       "      <td>0</td>\n",
       "      <td>1</td>\n",
       "      <td>0</td>\n",
       "      <td>0</td>\n",
       "      <td>0</td>\n",
       "      <td>0</td>\n",
       "      <td>0</td>\n",
       "      <td>1</td>\n",
       "      <td>0</td>\n",
       "      <td>0</td>\n",
       "    </tr>\n",
       "    <tr>\n",
       "      <th>1</th>\n",
       "      <td>-1.915313</td>\n",
       "      <td>-0.092738</td>\n",
       "      <td>0.072199</td>\n",
       "      <td>1.633471</td>\n",
       "      <td>2.122573</td>\n",
       "      <td>1</td>\n",
       "      <td>0</td>\n",
       "      <td>1</td>\n",
       "      <td>0</td>\n",
       "      <td>0</td>\n",
       "      <td>...</td>\n",
       "      <td>0</td>\n",
       "      <td>1</td>\n",
       "      <td>0</td>\n",
       "      <td>0</td>\n",
       "      <td>0</td>\n",
       "      <td>0</td>\n",
       "      <td>0</td>\n",
       "      <td>0</td>\n",
       "      <td>1</td>\n",
       "      <td>0</td>\n",
       "    </tr>\n",
       "    <tr>\n",
       "      <th>2</th>\n",
       "      <td>-1.474158</td>\n",
       "      <td>-0.092738</td>\n",
       "      <td>-0.816773</td>\n",
       "      <td>0.977514</td>\n",
       "      <td>0.310912</td>\n",
       "      <td>1</td>\n",
       "      <td>1</td>\n",
       "      <td>0</td>\n",
       "      <td>0</td>\n",
       "      <td>1</td>\n",
       "      <td>...</td>\n",
       "      <td>1</td>\n",
       "      <td>1</td>\n",
       "      <td>0</td>\n",
       "      <td>0</td>\n",
       "      <td>0</td>\n",
       "      <td>0</td>\n",
       "      <td>0</td>\n",
       "      <td>0</td>\n",
       "      <td>1</td>\n",
       "      <td>0</td>\n",
       "    </tr>\n",
       "    <tr>\n",
       "      <th>3</th>\n",
       "      <td>0.180175</td>\n",
       "      <td>-0.663867</td>\n",
       "      <td>-0.198357</td>\n",
       "      <td>1.239897</td>\n",
       "      <td>-0.206705</td>\n",
       "      <td>1</td>\n",
       "      <td>0</td>\n",
       "      <td>1</td>\n",
       "      <td>0</td>\n",
       "      <td>1</td>\n",
       "      <td>...</td>\n",
       "      <td>1</td>\n",
       "      <td>1</td>\n",
       "      <td>0</td>\n",
       "      <td>0</td>\n",
       "      <td>0</td>\n",
       "      <td>0</td>\n",
       "      <td>0</td>\n",
       "      <td>0</td>\n",
       "      <td>1</td>\n",
       "      <td>0</td>\n",
       "    </tr>\n",
       "    <tr>\n",
       "      <th>8</th>\n",
       "      <td>0.290464</td>\n",
       "      <td>-0.663867</td>\n",
       "      <td>2.082050</td>\n",
       "      <td>0.583939</td>\n",
       "      <td>-0.379244</td>\n",
       "      <td>1</td>\n",
       "      <td>1</td>\n",
       "      <td>0</td>\n",
       "      <td>1</td>\n",
       "      <td>0</td>\n",
       "      <td>...</td>\n",
       "      <td>1</td>\n",
       "      <td>1</td>\n",
       "      <td>0</td>\n",
       "      <td>0</td>\n",
       "      <td>0</td>\n",
       "      <td>0</td>\n",
       "      <td>0</td>\n",
       "      <td>0</td>\n",
       "      <td>1</td>\n",
       "      <td>0</td>\n",
       "    </tr>\n",
       "  </tbody>\n",
       "</table>\n",
       "<p>5 rows × 31 columns</p>\n",
       "</div>"
      ],
      "text/plain": [
       "        age  trestbps      chol   thalach   oldpeak  target  sex_0  sex_1  \\\n",
       "0  0.952197  0.763956 -0.256334  0.015443  1.087338       1      0      1   \n",
       "1 -1.915313 -0.092738  0.072199  1.633471  2.122573       1      0      1   \n",
       "2 -1.474158 -0.092738 -0.816773  0.977514  0.310912       1      1      0   \n",
       "3  0.180175 -0.663867 -0.198357  1.239897 -0.206705       1      0      1   \n",
       "8  0.290464 -0.663867  2.082050  0.583939 -0.379244       1      1      0   \n",
       "\n",
       "   cp_1  cp_2  ...  slope_2  ca_0  ca_1  ca_2  ca_3  ca_4  thal_0  thal_1  \\\n",
       "0     0     0  ...        0     1     0     0     0     0       0       1   \n",
       "1     0     0  ...        0     1     0     0     0     0       0       0   \n",
       "2     0     1  ...        1     1     0     0     0     0       0       0   \n",
       "3     0     1  ...        1     1     0     0     0     0       0       0   \n",
       "8     1     0  ...        1     1     0     0     0     0       0       0   \n",
       "\n",
       "   thal_2  thal_3  \n",
       "0       0       0  \n",
       "1       1       0  \n",
       "2       1       0  \n",
       "3       1       0  \n",
       "8       1       0  \n",
       "\n",
       "[5 rows x 31 columns]"
      ]
     },
     "execution_count": 398,
     "metadata": {},
     "output_type": "execute_result"
    }
   ],
   "source": [
    "dataset.head()"
   ]
  },
  {
   "cell_type": "code",
   "execution_count": 399,
   "id": "f16c89c7",
   "metadata": {},
   "outputs": [
    {
     "data": {
      "text/html": [
       "<div>\n",
       "<style scoped>\n",
       "    .dataframe tbody tr th:only-of-type {\n",
       "        vertical-align: middle;\n",
       "    }\n",
       "\n",
       "    .dataframe tbody tr th {\n",
       "        vertical-align: top;\n",
       "    }\n",
       "\n",
       "    .dataframe thead th {\n",
       "        text-align: right;\n",
       "    }\n",
       "</style>\n",
       "<table border=\"1\" class=\"dataframe\">\n",
       "  <thead>\n",
       "    <tr style=\"text-align: right;\">\n",
       "      <th></th>\n",
       "      <th>age</th>\n",
       "      <th>trestbps</th>\n",
       "      <th>chol</th>\n",
       "      <th>thalach</th>\n",
       "      <th>oldpeak</th>\n",
       "      <th>target</th>\n",
       "      <th>sex_0</th>\n",
       "      <th>sex_1</th>\n",
       "      <th>cp_1</th>\n",
       "      <th>cp_2</th>\n",
       "      <th>...</th>\n",
       "      <th>slope_2</th>\n",
       "      <th>ca_0</th>\n",
       "      <th>ca_1</th>\n",
       "      <th>ca_2</th>\n",
       "      <th>ca_3</th>\n",
       "      <th>ca_4</th>\n",
       "      <th>thal_0</th>\n",
       "      <th>thal_1</th>\n",
       "      <th>thal_2</th>\n",
       "      <th>thal_3</th>\n",
       "    </tr>\n",
       "  </thead>\n",
       "  <tbody>\n",
       "    <tr>\n",
       "      <th>329</th>\n",
       "      <td>0.511041</td>\n",
       "      <td>1.849101</td>\n",
       "      <td>-1.357886</td>\n",
       "      <td>-2.608388</td>\n",
       "      <td>-0.034166</td>\n",
       "      <td>0</td>\n",
       "      <td>0</td>\n",
       "      <td>1</td>\n",
       "      <td>1</td>\n",
       "      <td>0</td>\n",
       "      <td>...</td>\n",
       "      <td>0</td>\n",
       "      <td>0</td>\n",
       "      <td>0</td>\n",
       "      <td>1</td>\n",
       "      <td>0</td>\n",
       "      <td>0</td>\n",
       "      <td>0</td>\n",
       "      <td>1</td>\n",
       "      <td>0</td>\n",
       "      <td>0</td>\n",
       "    </tr>\n",
       "    <tr>\n",
       "      <th>330</th>\n",
       "      <td>0.290464</td>\n",
       "      <td>0.478391</td>\n",
       "      <td>-0.101730</td>\n",
       "      <td>-1.165281</td>\n",
       "      <td>-0.724323</td>\n",
       "      <td>0</td>\n",
       "      <td>1</td>\n",
       "      <td>0</td>\n",
       "      <td>1</td>\n",
       "      <td>0</td>\n",
       "      <td>...</td>\n",
       "      <td>0</td>\n",
       "      <td>1</td>\n",
       "      <td>0</td>\n",
       "      <td>0</td>\n",
       "      <td>0</td>\n",
       "      <td>0</td>\n",
       "      <td>0</td>\n",
       "      <td>0</td>\n",
       "      <td>0</td>\n",
       "      <td>1</td>\n",
       "    </tr>\n",
       "    <tr>\n",
       "      <th>331</th>\n",
       "      <td>-1.033002</td>\n",
       "      <td>-1.234996</td>\n",
       "      <td>0.342756</td>\n",
       "      <td>-0.771706</td>\n",
       "      <td>0.138373</td>\n",
       "      <td>0</td>\n",
       "      <td>0</td>\n",
       "      <td>1</td>\n",
       "      <td>0</td>\n",
       "      <td>0</td>\n",
       "      <td>...</td>\n",
       "      <td>0</td>\n",
       "      <td>1</td>\n",
       "      <td>0</td>\n",
       "      <td>0</td>\n",
       "      <td>0</td>\n",
       "      <td>0</td>\n",
       "      <td>0</td>\n",
       "      <td>0</td>\n",
       "      <td>0</td>\n",
       "      <td>1</td>\n",
       "    </tr>\n",
       "    <tr>\n",
       "      <th>332</th>\n",
       "      <td>1.503641</td>\n",
       "      <td>0.706843</td>\n",
       "      <td>-1.029353</td>\n",
       "      <td>-0.378132</td>\n",
       "      <td>2.036303</td>\n",
       "      <td>0</td>\n",
       "      <td>0</td>\n",
       "      <td>1</td>\n",
       "      <td>1</td>\n",
       "      <td>0</td>\n",
       "      <td>...</td>\n",
       "      <td>0</td>\n",
       "      <td>0</td>\n",
       "      <td>0</td>\n",
       "      <td>1</td>\n",
       "      <td>0</td>\n",
       "      <td>0</td>\n",
       "      <td>0</td>\n",
       "      <td>0</td>\n",
       "      <td>0</td>\n",
       "      <td>1</td>\n",
       "    </tr>\n",
       "    <tr>\n",
       "      <th>333</th>\n",
       "      <td>0.290464</td>\n",
       "      <td>-0.092738</td>\n",
       "      <td>-2.227533</td>\n",
       "      <td>-1.515125</td>\n",
       "      <td>0.138373</td>\n",
       "      <td>0</td>\n",
       "      <td>0</td>\n",
       "      <td>1</td>\n",
       "      <td>1</td>\n",
       "      <td>0</td>\n",
       "      <td>...</td>\n",
       "      <td>0</td>\n",
       "      <td>0</td>\n",
       "      <td>1</td>\n",
       "      <td>0</td>\n",
       "      <td>0</td>\n",
       "      <td>0</td>\n",
       "      <td>0</td>\n",
       "      <td>0</td>\n",
       "      <td>0</td>\n",
       "      <td>1</td>\n",
       "    </tr>\n",
       "  </tbody>\n",
       "</table>\n",
       "<p>5 rows × 31 columns</p>\n",
       "</div>"
      ],
      "text/plain": [
       "          age  trestbps      chol   thalach   oldpeak  target  sex_0  sex_1  \\\n",
       "329  0.511041  1.849101 -1.357886 -2.608388 -0.034166       0      0      1   \n",
       "330  0.290464  0.478391 -0.101730 -1.165281 -0.724323       0      1      0   \n",
       "331 -1.033002 -1.234996  0.342756 -0.771706  0.138373       0      0      1   \n",
       "332  1.503641  0.706843 -1.029353 -0.378132  2.036303       0      0      1   \n",
       "333  0.290464 -0.092738 -2.227533 -1.515125  0.138373       0      0      1   \n",
       "\n",
       "     cp_1  cp_2  ...  slope_2  ca_0  ca_1  ca_2  ca_3  ca_4  thal_0  thal_1  \\\n",
       "329     1     0  ...        0     0     0     1     0     0       0       1   \n",
       "330     1     0  ...        0     1     0     0     0     0       0       0   \n",
       "331     0     0  ...        0     1     0     0     0     0       0       0   \n",
       "332     1     0  ...        0     0     0     1     0     0       0       0   \n",
       "333     1     0  ...        0     0     1     0     0     0       0       0   \n",
       "\n",
       "     thal_2  thal_3  \n",
       "329       0       0  \n",
       "330       0       1  \n",
       "331       0       1  \n",
       "332       0       1  \n",
       "333       0       1  \n",
       "\n",
       "[5 rows x 31 columns]"
      ]
     },
     "execution_count": 399,
     "metadata": {},
     "output_type": "execute_result"
    }
   ],
   "source": [
    "dataset.tail()"
   ]
  },
  {
   "cell_type": "markdown",
   "id": "1df86c62",
   "metadata": {},
   "source": [
    "# Again explore the dataset"
   ]
  },
  {
   "cell_type": "code",
   "execution_count": 400,
   "id": "36e16ff4",
   "metadata": {},
   "outputs": [
    {
     "data": {
      "text/plain": [
       "(303, 31)"
      ]
     },
     "execution_count": 400,
     "metadata": {},
     "output_type": "execute_result"
    }
   ],
   "source": [
    "dataset.shape"
   ]
  },
  {
   "cell_type": "code",
   "execution_count": 401,
   "id": "8cbc0528",
   "metadata": {},
   "outputs": [
    {
     "name": "stdout",
     "output_type": "stream",
     "text": [
      "<class 'pandas.core.frame.DataFrame'>\n",
      "Int64Index: 303 entries, 0 to 333\n",
      "Data columns (total 31 columns):\n",
      " #   Column     Non-Null Count  Dtype  \n",
      "---  ------     --------------  -----  \n",
      " 0   age        303 non-null    float64\n",
      " 1   trestbps   303 non-null    float64\n",
      " 2   chol       303 non-null    float64\n",
      " 3   thalach    303 non-null    float64\n",
      " 4   oldpeak    303 non-null    float64\n",
      " 5   target     303 non-null    int64  \n",
      " 6   sex_0      303 non-null    uint8  \n",
      " 7   sex_1      303 non-null    uint8  \n",
      " 8   cp_1       303 non-null    uint8  \n",
      " 9   cp_2       303 non-null    uint8  \n",
      " 10  cp_3       303 non-null    uint8  \n",
      " 11  cp_4       303 non-null    uint8  \n",
      " 12  fbs_0      303 non-null    uint8  \n",
      " 13  fbs_1      303 non-null    uint8  \n",
      " 14  restecg_0  303 non-null    uint8  \n",
      " 15  restecg_1  303 non-null    uint8  \n",
      " 16  restecg_2  303 non-null    uint8  \n",
      " 17  exang_0    303 non-null    uint8  \n",
      " 18  exang_1    303 non-null    uint8  \n",
      " 19  slope_0    303 non-null    uint8  \n",
      " 20  slope_1    303 non-null    uint8  \n",
      " 21  slope_2    303 non-null    uint8  \n",
      " 22  ca_0       303 non-null    uint8  \n",
      " 23  ca_1       303 non-null    uint8  \n",
      " 24  ca_2       303 non-null    uint8  \n",
      " 25  ca_3       303 non-null    uint8  \n",
      " 26  ca_4       303 non-null    uint8  \n",
      " 27  thal_0     303 non-null    uint8  \n",
      " 28  thal_1     303 non-null    uint8  \n",
      " 29  thal_2     303 non-null    uint8  \n",
      " 30  thal_3     303 non-null    uint8  \n",
      "dtypes: float64(5), int64(1), uint8(25)\n",
      "memory usage: 32.1 KB\n"
     ]
    }
   ],
   "source": [
    "dataset.info()"
   ]
  },
  {
   "cell_type": "code",
   "execution_count": 402,
   "id": "f3af46e7",
   "metadata": {},
   "outputs": [
    {
     "data": {
      "text/plain": [
       "age          0\n",
       "trestbps     0\n",
       "chol         0\n",
       "thalach      0\n",
       "oldpeak      0\n",
       "target       0\n",
       "sex_0        0\n",
       "sex_1        0\n",
       "cp_1         0\n",
       "cp_2         0\n",
       "cp_3         0\n",
       "cp_4         0\n",
       "fbs_0        0\n",
       "fbs_1        0\n",
       "restecg_0    0\n",
       "restecg_1    0\n",
       "restecg_2    0\n",
       "exang_0      0\n",
       "exang_1      0\n",
       "slope_0      0\n",
       "slope_1      0\n",
       "slope_2      0\n",
       "ca_0         0\n",
       "ca_1         0\n",
       "ca_2         0\n",
       "ca_3         0\n",
       "ca_4         0\n",
       "thal_0       0\n",
       "thal_1       0\n",
       "thal_2       0\n",
       "thal_3       0\n",
       "dtype: int64"
      ]
     },
     "execution_count": 402,
     "metadata": {},
     "output_type": "execute_result"
    }
   ],
   "source": [
    "dataset.isnull().sum()"
   ]
  },
  {
   "cell_type": "code",
   "execution_count": 403,
   "id": "23c6a1a3",
   "metadata": {},
   "outputs": [
    {
     "data": {
      "text/html": [
       "<div>\n",
       "<style scoped>\n",
       "    .dataframe tbody tr th:only-of-type {\n",
       "        vertical-align: middle;\n",
       "    }\n",
       "\n",
       "    .dataframe tbody tr th {\n",
       "        vertical-align: top;\n",
       "    }\n",
       "\n",
       "    .dataframe thead th {\n",
       "        text-align: right;\n",
       "    }\n",
       "</style>\n",
       "<table border=\"1\" class=\"dataframe\">\n",
       "  <thead>\n",
       "    <tr style=\"text-align: right;\">\n",
       "      <th></th>\n",
       "      <th>age</th>\n",
       "      <th>trestbps</th>\n",
       "      <th>chol</th>\n",
       "      <th>thalach</th>\n",
       "      <th>oldpeak</th>\n",
       "      <th>target</th>\n",
       "      <th>sex_0</th>\n",
       "      <th>sex_1</th>\n",
       "      <th>cp_1</th>\n",
       "      <th>cp_2</th>\n",
       "      <th>...</th>\n",
       "      <th>slope_2</th>\n",
       "      <th>ca_0</th>\n",
       "      <th>ca_1</th>\n",
       "      <th>ca_2</th>\n",
       "      <th>ca_3</th>\n",
       "      <th>ca_4</th>\n",
       "      <th>thal_0</th>\n",
       "      <th>thal_1</th>\n",
       "      <th>thal_2</th>\n",
       "      <th>thal_3</th>\n",
       "    </tr>\n",
       "  </thead>\n",
       "  <tbody>\n",
       "    <tr>\n",
       "      <th>count</th>\n",
       "      <td>3.030000e+02</td>\n",
       "      <td>3.030000e+02</td>\n",
       "      <td>3.030000e+02</td>\n",
       "      <td>3.030000e+02</td>\n",
       "      <td>3.030000e+02</td>\n",
       "      <td>303.000000</td>\n",
       "      <td>303.000000</td>\n",
       "      <td>303.000000</td>\n",
       "      <td>303.000000</td>\n",
       "      <td>303.000000</td>\n",
       "      <td>...</td>\n",
       "      <td>303.000000</td>\n",
       "      <td>303.000000</td>\n",
       "      <td>303.000000</td>\n",
       "      <td>303.000000</td>\n",
       "      <td>303.000000</td>\n",
       "      <td>303.000000</td>\n",
       "      <td>303.000000</td>\n",
       "      <td>303.000000</td>\n",
       "      <td>303.000000</td>\n",
       "      <td>303.000000</td>\n",
       "    </tr>\n",
       "    <tr>\n",
       "      <th>mean</th>\n",
       "      <td>9.728192e-17</td>\n",
       "      <td>-7.199045e-16</td>\n",
       "      <td>-1.069918e-16</td>\n",
       "      <td>-4.506846e-16</td>\n",
       "      <td>-3.181357e-16</td>\n",
       "      <td>0.544554</td>\n",
       "      <td>0.316832</td>\n",
       "      <td>0.683168</td>\n",
       "      <td>0.471947</td>\n",
       "      <td>0.165017</td>\n",
       "      <td>...</td>\n",
       "      <td>0.468647</td>\n",
       "      <td>0.577558</td>\n",
       "      <td>0.214521</td>\n",
       "      <td>0.125413</td>\n",
       "      <td>0.066007</td>\n",
       "      <td>0.016502</td>\n",
       "      <td>0.006601</td>\n",
       "      <td>0.059406</td>\n",
       "      <td>0.547855</td>\n",
       "      <td>0.386139</td>\n",
       "    </tr>\n",
       "    <tr>\n",
       "      <th>std</th>\n",
       "      <td>1.001654e+00</td>\n",
       "      <td>1.001654e+00</td>\n",
       "      <td>1.001654e+00</td>\n",
       "      <td>1.001654e+00</td>\n",
       "      <td>1.001654e+00</td>\n",
       "      <td>0.498835</td>\n",
       "      <td>0.466011</td>\n",
       "      <td>0.466011</td>\n",
       "      <td>0.500038</td>\n",
       "      <td>0.371809</td>\n",
       "      <td>...</td>\n",
       "      <td>0.499842</td>\n",
       "      <td>0.494765</td>\n",
       "      <td>0.411169</td>\n",
       "      <td>0.331734</td>\n",
       "      <td>0.248704</td>\n",
       "      <td>0.127605</td>\n",
       "      <td>0.081110</td>\n",
       "      <td>0.236774</td>\n",
       "      <td>0.498528</td>\n",
       "      <td>0.487668</td>\n",
       "    </tr>\n",
       "    <tr>\n",
       "      <th>min</th>\n",
       "      <td>-2.797624e+00</td>\n",
       "      <td>-2.148802e+00</td>\n",
       "      <td>-2.324160e+00</td>\n",
       "      <td>-3.439267e+00</td>\n",
       "      <td>-8.968617e-01</td>\n",
       "      <td>0.000000</td>\n",
       "      <td>0.000000</td>\n",
       "      <td>0.000000</td>\n",
       "      <td>0.000000</td>\n",
       "      <td>0.000000</td>\n",
       "      <td>...</td>\n",
       "      <td>0.000000</td>\n",
       "      <td>0.000000</td>\n",
       "      <td>0.000000</td>\n",
       "      <td>0.000000</td>\n",
       "      <td>0.000000</td>\n",
       "      <td>0.000000</td>\n",
       "      <td>0.000000</td>\n",
       "      <td>0.000000</td>\n",
       "      <td>0.000000</td>\n",
       "      <td>0.000000</td>\n",
       "    </tr>\n",
       "    <tr>\n",
       "      <th>25%</th>\n",
       "      <td>-7.572802e-01</td>\n",
       "      <td>-6.638668e-01</td>\n",
       "      <td>-6.814943e-01</td>\n",
       "      <td>-7.061105e-01</td>\n",
       "      <td>-8.968617e-01</td>\n",
       "      <td>0.000000</td>\n",
       "      <td>0.000000</td>\n",
       "      <td>0.000000</td>\n",
       "      <td>0.000000</td>\n",
       "      <td>0.000000</td>\n",
       "      <td>...</td>\n",
       "      <td>0.000000</td>\n",
       "      <td>0.000000</td>\n",
       "      <td>0.000000</td>\n",
       "      <td>0.000000</td>\n",
       "      <td>0.000000</td>\n",
       "      <td>0.000000</td>\n",
       "      <td>0.000000</td>\n",
       "      <td>0.000000</td>\n",
       "      <td>0.000000</td>\n",
       "      <td>0.000000</td>\n",
       "    </tr>\n",
       "    <tr>\n",
       "      <th>50%</th>\n",
       "      <td>6.988599e-02</td>\n",
       "      <td>-9.273778e-02</td>\n",
       "      <td>-1.210553e-01</td>\n",
       "      <td>1.466343e-01</td>\n",
       "      <td>-2.067053e-01</td>\n",
       "      <td>1.000000</td>\n",
       "      <td>0.000000</td>\n",
       "      <td>1.000000</td>\n",
       "      <td>0.000000</td>\n",
       "      <td>0.000000</td>\n",
       "      <td>...</td>\n",
       "      <td>0.000000</td>\n",
       "      <td>1.000000</td>\n",
       "      <td>0.000000</td>\n",
       "      <td>0.000000</td>\n",
       "      <td>0.000000</td>\n",
       "      <td>0.000000</td>\n",
       "      <td>0.000000</td>\n",
       "      <td>0.000000</td>\n",
       "      <td>1.000000</td>\n",
       "      <td>0.000000</td>\n",
       "    </tr>\n",
       "    <tr>\n",
       "      <th>75%</th>\n",
       "      <td>7.316189e-01</td>\n",
       "      <td>4.783913e-01</td>\n",
       "      <td>5.456738e-01</td>\n",
       "      <td>7.151309e-01</td>\n",
       "      <td>4.834512e-01</td>\n",
       "      <td>1.000000</td>\n",
       "      <td>1.000000</td>\n",
       "      <td>1.000000</td>\n",
       "      <td>1.000000</td>\n",
       "      <td>0.000000</td>\n",
       "      <td>...</td>\n",
       "      <td>1.000000</td>\n",
       "      <td>1.000000</td>\n",
       "      <td>0.000000</td>\n",
       "      <td>0.000000</td>\n",
       "      <td>0.000000</td>\n",
       "      <td>0.000000</td>\n",
       "      <td>0.000000</td>\n",
       "      <td>0.000000</td>\n",
       "      <td>1.000000</td>\n",
       "      <td>1.000000</td>\n",
       "    </tr>\n",
       "    <tr>\n",
       "      <th>max</th>\n",
       "      <td>2.496240e+00</td>\n",
       "      <td>3.905165e+00</td>\n",
       "      <td>6.140401e+00</td>\n",
       "      <td>2.289429e+00</td>\n",
       "      <td>4.451851e+00</td>\n",
       "      <td>1.000000</td>\n",
       "      <td>1.000000</td>\n",
       "      <td>1.000000</td>\n",
       "      <td>1.000000</td>\n",
       "      <td>1.000000</td>\n",
       "      <td>...</td>\n",
       "      <td>1.000000</td>\n",
       "      <td>1.000000</td>\n",
       "      <td>1.000000</td>\n",
       "      <td>1.000000</td>\n",
       "      <td>1.000000</td>\n",
       "      <td>1.000000</td>\n",
       "      <td>1.000000</td>\n",
       "      <td>1.000000</td>\n",
       "      <td>1.000000</td>\n",
       "      <td>1.000000</td>\n",
       "    </tr>\n",
       "  </tbody>\n",
       "</table>\n",
       "<p>8 rows × 31 columns</p>\n",
       "</div>"
      ],
      "text/plain": [
       "                age      trestbps          chol       thalach       oldpeak  \\\n",
       "count  3.030000e+02  3.030000e+02  3.030000e+02  3.030000e+02  3.030000e+02   \n",
       "mean   9.728192e-17 -7.199045e-16 -1.069918e-16 -4.506846e-16 -3.181357e-16   \n",
       "std    1.001654e+00  1.001654e+00  1.001654e+00  1.001654e+00  1.001654e+00   \n",
       "min   -2.797624e+00 -2.148802e+00 -2.324160e+00 -3.439267e+00 -8.968617e-01   \n",
       "25%   -7.572802e-01 -6.638668e-01 -6.814943e-01 -7.061105e-01 -8.968617e-01   \n",
       "50%    6.988599e-02 -9.273778e-02 -1.210553e-01  1.466343e-01 -2.067053e-01   \n",
       "75%    7.316189e-01  4.783913e-01  5.456738e-01  7.151309e-01  4.834512e-01   \n",
       "max    2.496240e+00  3.905165e+00  6.140401e+00  2.289429e+00  4.451851e+00   \n",
       "\n",
       "           target       sex_0       sex_1        cp_1        cp_2  ...  \\\n",
       "count  303.000000  303.000000  303.000000  303.000000  303.000000  ...   \n",
       "mean     0.544554    0.316832    0.683168    0.471947    0.165017  ...   \n",
       "std      0.498835    0.466011    0.466011    0.500038    0.371809  ...   \n",
       "min      0.000000    0.000000    0.000000    0.000000    0.000000  ...   \n",
       "25%      0.000000    0.000000    0.000000    0.000000    0.000000  ...   \n",
       "50%      1.000000    0.000000    1.000000    0.000000    0.000000  ...   \n",
       "75%      1.000000    1.000000    1.000000    1.000000    0.000000  ...   \n",
       "max      1.000000    1.000000    1.000000    1.000000    1.000000  ...   \n",
       "\n",
       "          slope_2        ca_0        ca_1        ca_2        ca_3        ca_4  \\\n",
       "count  303.000000  303.000000  303.000000  303.000000  303.000000  303.000000   \n",
       "mean     0.468647    0.577558    0.214521    0.125413    0.066007    0.016502   \n",
       "std      0.499842    0.494765    0.411169    0.331734    0.248704    0.127605   \n",
       "min      0.000000    0.000000    0.000000    0.000000    0.000000    0.000000   \n",
       "25%      0.000000    0.000000    0.000000    0.000000    0.000000    0.000000   \n",
       "50%      0.000000    1.000000    0.000000    0.000000    0.000000    0.000000   \n",
       "75%      1.000000    1.000000    0.000000    0.000000    0.000000    0.000000   \n",
       "max      1.000000    1.000000    1.000000    1.000000    1.000000    1.000000   \n",
       "\n",
       "           thal_0      thal_1      thal_2      thal_3  \n",
       "count  303.000000  303.000000  303.000000  303.000000  \n",
       "mean     0.006601    0.059406    0.547855    0.386139  \n",
       "std      0.081110    0.236774    0.498528    0.487668  \n",
       "min      0.000000    0.000000    0.000000    0.000000  \n",
       "25%      0.000000    0.000000    0.000000    0.000000  \n",
       "50%      0.000000    0.000000    1.000000    0.000000  \n",
       "75%      0.000000    0.000000    1.000000    1.000000  \n",
       "max      1.000000    1.000000    1.000000    1.000000  \n",
       "\n",
       "[8 rows x 31 columns]"
      ]
     },
     "execution_count": 403,
     "metadata": {},
     "output_type": "execute_result"
    }
   ],
   "source": [
    "dataset.describe()"
   ]
  },
  {
   "cell_type": "code",
   "execution_count": 404,
   "id": "ffec682a",
   "metadata": {},
   "outputs": [
    {
     "data": {
      "text/plain": [
       "1    165\n",
       "0    138\n",
       "Name: target, dtype: int64"
      ]
     },
     "execution_count": 404,
     "metadata": {},
     "output_type": "execute_result"
    }
   ],
   "source": [
    "dataset['target'].value_counts()"
   ]
  },
  {
   "cell_type": "markdown",
   "id": "191cc973",
   "metadata": {},
   "source": [
    "# Separate X and Y values"
   ]
  },
  {
   "cell_type": "code",
   "execution_count": 405,
   "id": "d4eee048",
   "metadata": {},
   "outputs": [],
   "source": [
    "X= dataset.drop(columns='target', axis=1)\n",
    "Y= dataset['target']"
   ]
  },
  {
   "cell_type": "code",
   "execution_count": 406,
   "id": "b697d896",
   "metadata": {},
   "outputs": [
    {
     "name": "stdout",
     "output_type": "stream",
     "text": [
      "          age  trestbps      chol   thalach   oldpeak  sex_0  sex_1  cp_1  \\\n",
      "0    0.952197  0.763956 -0.256334  0.015443  1.087338      0      1     0   \n",
      "1   -1.915313 -0.092738  0.072199  1.633471  2.122573      0      1     0   \n",
      "2   -1.474158 -0.092738 -0.816773  0.977514  0.310912      1      0     0   \n",
      "3    0.180175 -0.663867 -0.198357  1.239897 -0.206705      0      1     0   \n",
      "8    0.290464 -0.663867  2.082050  0.583939 -0.379244      1      0     1   \n",
      "..        ...       ...       ...       ...       ...    ...    ...   ...   \n",
      "329  0.511041  1.849101 -1.357886 -2.608388 -0.034166      0      1     1   \n",
      "330  0.290464  0.478391 -0.101730 -1.165281 -0.724323      1      0     1   \n",
      "331 -1.033002 -1.234996  0.342756 -0.771706  0.138373      0      1     0   \n",
      "332  1.503641  0.706843 -1.029353 -0.378132  2.036303      0      1     1   \n",
      "333  0.290464 -0.092738 -2.227533 -1.515125  0.138373      0      1     1   \n",
      "\n",
      "     cp_2  cp_3  ...  slope_2  ca_0  ca_1  ca_2  ca_3  ca_4  thal_0  thal_1  \\\n",
      "0       0     0  ...        0     1     0     0     0     0       0       1   \n",
      "1       0     1  ...        0     1     0     0     0     0       0       0   \n",
      "2       1     0  ...        1     1     0     0     0     0       0       0   \n",
      "3       1     0  ...        1     1     0     0     0     0       0       0   \n",
      "8       0     0  ...        1     1     0     0     0     0       0       0   \n",
      "..    ...   ...  ...      ...   ...   ...   ...   ...   ...     ...     ...   \n",
      "329     0     0  ...        0     0     0     1     0     0       0       1   \n",
      "330     0     0  ...        0     1     0     0     0     0       0       0   \n",
      "331     0     0  ...        0     1     0     0     0     0       0       0   \n",
      "332     0     0  ...        0     0     0     1     0     0       0       0   \n",
      "333     0     0  ...        0     0     1     0     0     0       0       0   \n",
      "\n",
      "     thal_2  thal_3  \n",
      "0         0       0  \n",
      "1         1       0  \n",
      "2         1       0  \n",
      "3         1       0  \n",
      "8         1       0  \n",
      "..      ...     ...  \n",
      "329       0       0  \n",
      "330       0       1  \n",
      "331       0       1  \n",
      "332       0       1  \n",
      "333       0       1  \n",
      "\n",
      "[303 rows x 30 columns]\n"
     ]
    }
   ],
   "source": [
    "print(X)"
   ]
  },
  {
   "cell_type": "code",
   "execution_count": 407,
   "id": "4d3aaa2f",
   "metadata": {},
   "outputs": [
    {
     "name": "stdout",
     "output_type": "stream",
     "text": [
      "0      1\n",
      "1      1\n",
      "2      1\n",
      "3      1\n",
      "8      1\n",
      "      ..\n",
      "329    0\n",
      "330    0\n",
      "331    0\n",
      "332    0\n",
      "333    0\n",
      "Name: target, Length: 303, dtype: int64\n"
     ]
    }
   ],
   "source": [
    "print(Y)"
   ]
  },
  {
   "cell_type": "markdown",
   "id": "5f6c4bcd",
   "metadata": {},
   "source": [
    "# Splitting of data"
   ]
  },
  {
   "cell_type": "code",
   "execution_count": 408,
   "id": "e2e581db",
   "metadata": {},
   "outputs": [],
   "source": [
    "X_train, X_test,Y_train,Y_test = train_test_split(X,Y, test_size=0.2, stratify=Y, random_state=2)"
   ]
  },
  {
   "cell_type": "code",
   "execution_count": 409,
   "id": "5a3f0712",
   "metadata": {},
   "outputs": [
    {
     "name": "stdout",
     "output_type": "stream",
     "text": [
      "(303, 30) (242, 30) (61, 30)\n"
     ]
    }
   ],
   "source": [
    "print(X.shape,X_train.shape,X_test.shape)"
   ]
  },
  {
   "cell_type": "markdown",
   "id": "d67568f0",
   "metadata": {},
   "source": [
    "# Apply Logistic Regression"
   ]
  },
  {
   "cell_type": "code",
   "execution_count": 410,
   "id": "2acbdbf7",
   "metadata": {},
   "outputs": [],
   "source": [
    "model = LogisticRegression()"
   ]
  },
  {
   "cell_type": "code",
   "execution_count": 411,
   "id": "29741158",
   "metadata": {},
   "outputs": [
    {
     "data": {
      "text/plain": [
       "LogisticRegression()"
      ]
     },
     "execution_count": 411,
     "metadata": {},
     "output_type": "execute_result"
    }
   ],
   "source": [
    " model.fit(X_train,Y_train)"
   ]
  },
  {
   "cell_type": "code",
   "execution_count": 412,
   "id": "79d56e89",
   "metadata": {},
   "outputs": [],
   "source": [
    "X_train_prediction = model.predict(X_train)\n",
    "training_data_accuracy = accuracy_score(X_train_prediction,Y_train)"
   ]
  },
  {
   "cell_type": "code",
   "execution_count": 413,
   "id": "c1791c40",
   "metadata": {},
   "outputs": [],
   "source": [
    "X_test_prediction = model.predict(X_test)\n",
    "test_data_accuracy = accuracy_score(X_test_prediction,Y_test)"
   ]
  },
  {
   "cell_type": "markdown",
   "id": "b6d0d935",
   "metadata": {},
   "source": [
    "### Check Accuracy"
   ]
  },
  {
   "cell_type": "code",
   "execution_count": 414,
   "id": "801ec3f5",
   "metadata": {},
   "outputs": [
    {
     "name": "stdout",
     "output_type": "stream",
     "text": [
      "Accuracy on Training data:  0.8801652892561983\n"
     ]
    }
   ],
   "source": [
    "print(\"Accuracy on Training data: \", training_data_accuracy)\n",
    "LR_train_score= training_data_accuracy"
   ]
  },
  {
   "cell_type": "code",
   "execution_count": 415,
   "id": "48866091",
   "metadata": {},
   "outputs": [
    {
     "name": "stdout",
     "output_type": "stream",
     "text": [
      "Accuracy on Test data:  0.8360655737704918\n"
     ]
    }
   ],
   "source": [
    "print(\"Accuracy on Test data: \", test_data_accuracy)\n",
    "LR_test_score= test_data_accuracy"
   ]
  },
  {
   "cell_type": "code",
   "execution_count": 416,
   "id": "35bfb6c0",
   "metadata": {},
   "outputs": [
    {
     "name": "stdout",
     "output_type": "stream",
     "text": [
      "          age  trestbps      chol   thalach   oldpeak  target  sex_0  sex_1  \\\n",
      "0    0.952197  0.763956 -0.256334  0.015443  1.087338       1      0      1   \n",
      "1   -1.915313 -0.092738  0.072199  1.633471  2.122573       1      0      1   \n",
      "2   -1.474158 -0.092738 -0.816773  0.977514  0.310912       1      1      0   \n",
      "3    0.180175 -0.663867 -0.198357  1.239897 -0.206705       1      0      1   \n",
      "8    0.290464 -0.663867  2.082050  0.583939 -0.379244       1      1      0   \n",
      "..        ...       ...       ...       ...       ...     ...    ...    ...   \n",
      "329  0.511041  1.849101 -1.357886 -2.608388 -0.034166       0      0      1   \n",
      "330  0.290464  0.478391 -0.101730 -1.165281 -0.724323       0      1      0   \n",
      "331 -1.033002 -1.234996  0.342756 -0.771706  0.138373       0      0      1   \n",
      "332  1.503641  0.706843 -1.029353 -0.378132  2.036303       0      0      1   \n",
      "333  0.290464 -0.092738 -2.227533 -1.515125  0.138373       0      0      1   \n",
      "\n",
      "     cp_1  cp_2  ...  slope_2  ca_0  ca_1  ca_2  ca_3  ca_4  thal_0  thal_1  \\\n",
      "0       0     0  ...        0     1     0     0     0     0       0       1   \n",
      "1       0     0  ...        0     1     0     0     0     0       0       0   \n",
      "2       0     1  ...        1     1     0     0     0     0       0       0   \n",
      "3       0     1  ...        1     1     0     0     0     0       0       0   \n",
      "8       1     0  ...        1     1     0     0     0     0       0       0   \n",
      "..    ...   ...  ...      ...   ...   ...   ...   ...   ...     ...     ...   \n",
      "329     1     0  ...        0     0     0     1     0     0       0       1   \n",
      "330     1     0  ...        0     1     0     0     0     0       0       0   \n",
      "331     0     0  ...        0     1     0     0     0     0       0       0   \n",
      "332     1     0  ...        0     0     0     1     0     0       0       0   \n",
      "333     1     0  ...        0     0     1     0     0     0       0       0   \n",
      "\n",
      "     thal_2  thal_3  \n",
      "0         0       0  \n",
      "1         1       0  \n",
      "2         1       0  \n",
      "3         1       0  \n",
      "8         1       0  \n",
      "..      ...     ...  \n",
      "329       0       0  \n",
      "330       0       1  \n",
      "331       0       1  \n",
      "332       0       1  \n",
      "333       0       1  \n",
      "\n",
      "[303 rows x 31 columns]\n"
     ]
    }
   ],
   "source": [
    "print(dataset)"
   ]
  },
  {
   "cell_type": "markdown",
   "id": "30df2b87",
   "metadata": {},
   "source": [
    "# Apply Support Vector Machine (SVM)"
   ]
  },
  {
   "cell_type": "code",
   "execution_count": 417,
   "id": "b6d5b041",
   "metadata": {},
   "outputs": [
    {
     "data": {
      "text/plain": [
       "SVC()"
      ]
     },
     "execution_count": 417,
     "metadata": {},
     "output_type": "execute_result"
    }
   ],
   "source": [
    "from sklearn import svm\n",
    "model1= svm.SVC()\n",
    "model1.fit(X_train,Y_train)\n"
   ]
  },
  {
   "cell_type": "code",
   "execution_count": 418,
   "id": "9fd40eb9",
   "metadata": {},
   "outputs": [],
   "source": [
    "X_train_prediction = model1.predict(X_train)\n",
    "training_data_accuracy = accuracy_score(X_train_prediction,Y_train)"
   ]
  },
  {
   "cell_type": "code",
   "execution_count": 419,
   "id": "92543c6b",
   "metadata": {},
   "outputs": [],
   "source": [
    "X_test_prediction = model1.predict(X_test)\n",
    "test_data_accuracy = accuracy_score(X_test_prediction,Y_test)"
   ]
  },
  {
   "cell_type": "markdown",
   "id": "eb50e629",
   "metadata": {},
   "source": [
    "### Check Accuracy"
   ]
  },
  {
   "cell_type": "code",
   "execution_count": 420,
   "id": "54e6af83",
   "metadata": {},
   "outputs": [
    {
     "name": "stdout",
     "output_type": "stream",
     "text": [
      "Accuracy on Training data:  0.9297520661157025\n"
     ]
    }
   ],
   "source": [
    "print(\"Accuracy on Training data: \", training_data_accuracy)\n",
    "SVM_train_score= training_data_accuracy"
   ]
  },
  {
   "cell_type": "code",
   "execution_count": 421,
   "id": "468e49d6",
   "metadata": {},
   "outputs": [
    {
     "name": "stdout",
     "output_type": "stream",
     "text": [
      "Accuracy on Test data:  0.819672131147541\n"
     ]
    }
   ],
   "source": [
    "print(\"Accuracy on Test data: \", test_data_accuracy)\n",
    "SVM_test_score= test_data_accuracy"
   ]
  },
  {
   "cell_type": "markdown",
   "id": "8c7e7e8f",
   "metadata": {},
   "source": [
    "# Apply Naive Bayes"
   ]
  },
  {
   "cell_type": "code",
   "execution_count": 422,
   "id": "0a258085",
   "metadata": {},
   "outputs": [
    {
     "data": {
      "text/plain": [
       "GaussianNB()"
      ]
     },
     "execution_count": 422,
     "metadata": {},
     "output_type": "execute_result"
    }
   ],
   "source": [
    "from sklearn.naive_bayes import GaussianNB\n",
    "model1= GaussianNB()\n",
    "model1.fit(X_train,Y_train)"
   ]
  },
  {
   "cell_type": "code",
   "execution_count": 423,
   "id": "cbc8f4b0",
   "metadata": {},
   "outputs": [],
   "source": [
    "X_train_prediction = model1.predict(X_train)\n",
    "training_data_accuracy = accuracy_score(X_train_prediction,Y_train)"
   ]
  },
  {
   "cell_type": "code",
   "execution_count": 424,
   "id": "56cb5794",
   "metadata": {},
   "outputs": [],
   "source": [
    "X_test_prediction = model1.predict(X_test)\n",
    "test_data_accuracy = accuracy_score(X_test_prediction,Y_test)"
   ]
  },
  {
   "cell_type": "markdown",
   "id": "5746a0db",
   "metadata": {},
   "source": [
    "### Check Accuracy"
   ]
  },
  {
   "cell_type": "code",
   "execution_count": 425,
   "id": "c859ecf6",
   "metadata": {},
   "outputs": [
    {
     "name": "stdout",
     "output_type": "stream",
     "text": [
      "Accuracy on Training data:  0.8099173553719008\n"
     ]
    }
   ],
   "source": [
    "print(\"Accuracy on Training data: \", training_data_accuracy)\n",
    "NB_train_score= training_data_accuracy"
   ]
  },
  {
   "cell_type": "code",
   "execution_count": 426,
   "id": "7f359381",
   "metadata": {},
   "outputs": [
    {
     "name": "stdout",
     "output_type": "stream",
     "text": [
      "Accuracy on Test data:  0.819672131147541\n"
     ]
    }
   ],
   "source": [
    "print(\"Accuracy on Test data: \", test_data_accuracy)\n",
    "NB_test_score= test_data_accuracy"
   ]
  },
  {
   "cell_type": "markdown",
   "id": "8765f3de",
   "metadata": {},
   "source": [
    "# Apply K Nearest Neighbours"
   ]
  },
  {
   "cell_type": "code",
   "execution_count": 427,
   "id": "609f4c34",
   "metadata": {},
   "outputs": [
    {
     "data": {
      "text/plain": [
       "KNeighborsClassifier(n_neighbors=9)"
      ]
     },
     "execution_count": 427,
     "metadata": {},
     "output_type": "execute_result"
    }
   ],
   "source": [
    "from sklearn.neighbors import KNeighborsClassifier\n",
    "model1= KNeighborsClassifier(n_neighbors=9)\n",
    "model1.fit(X_train,Y_train)"
   ]
  },
  {
   "cell_type": "code",
   "execution_count": 428,
   "id": "82ca5e05",
   "metadata": {},
   "outputs": [],
   "source": [
    "X_train_prediction = model1.predict(X_train)\n",
    "training_data_accuracy = accuracy_score(X_train_prediction,Y_train)"
   ]
  },
  {
   "cell_type": "code",
   "execution_count": 429,
   "id": "e7f9d0de",
   "metadata": {},
   "outputs": [],
   "source": [
    "X_test_prediction = model1.predict(X_test)\n",
    "test_data_accuracy = accuracy_score(X_test_prediction,Y_test)"
   ]
  },
  {
   "cell_type": "markdown",
   "id": "b95c879b",
   "metadata": {},
   "source": [
    "### Check Accuracy"
   ]
  },
  {
   "cell_type": "code",
   "execution_count": 430,
   "id": "248adef8",
   "metadata": {},
   "outputs": [
    {
     "name": "stdout",
     "output_type": "stream",
     "text": [
      "Accuracy on Training data:  0.871900826446281\n"
     ]
    }
   ],
   "source": [
    "print(\"Accuracy on Training data: \", training_data_accuracy)\n",
    "KNN_train_score= training_data_accuracy"
   ]
  },
  {
   "cell_type": "code",
   "execution_count": 431,
   "id": "c84bda4b",
   "metadata": {},
   "outputs": [
    {
     "name": "stdout",
     "output_type": "stream",
     "text": [
      "Accuracy on Test data:  0.7704918032786885\n"
     ]
    }
   ],
   "source": [
    "print(\"Accuracy on Test data: \", test_data_accuracy)\n",
    "KNN_test_score= test_data_accuracy"
   ]
  },
  {
   "cell_type": "markdown",
   "id": "5330b9a1",
   "metadata": {},
   "source": [
    "# Compare Accuracy Scores"
   ]
  },
  {
   "cell_type": "markdown",
   "id": "ca61b5e3",
   "metadata": {},
   "source": [
    "### 1. For Training Data"
   ]
  },
  {
   "cell_type": "code",
   "execution_count": 432,
   "id": "59418eec",
   "metadata": {},
   "outputs": [],
   "source": [
    "model1= [\"KNN\",\"Naive Bayes\",\"SVM\",\"Logistic Regression\"]\n",
    "train_score= [KNN_train_score,NB_train_score,SVM_train_score,LR_train_score]"
   ]
  },
  {
   "cell_type": "code",
   "execution_count": 433,
   "id": "bf520f98",
   "metadata": {},
   "outputs": [
    {
     "data": {
      "text/plain": [
       "<AxesSubplot:xlabel='Model', ylabel='Accuracy_Train_Score'>"
      ]
     },
     "execution_count": 433,
     "metadata": {},
     "output_type": "execute_result"
    },
    {
     "data": {
      "image/png": "[encoded data removed]",
      "text/plain": [
       "<Figure size 432x288 with 1 Axes>"
      ]
     },
     "metadata": {
      "needs_background": "light"
     },
     "output_type": "display_data"
    }
   ],
   "source": [
    "plt.xlabel(\"Model\")\n",
    "plt.ylabel(\"Accuracy_Train_Score\")\n",
    "sns.barplot(x=model1,y=train_score)"
   ]
  },
  {
   "cell_type": "markdown",
   "id": "6330a142",
   "metadata": {},
   "source": [
    "### 2. For Testing Data"
   ]
  },
  {
   "cell_type": "code",
   "execution_count": 434,
   "id": "9e1b0005",
   "metadata": {},
   "outputs": [],
   "source": [
    "model1= [\"KNN\",\"Naive Bayes\",\"SVM\",\"Logistic Regression\"]\n",
    "test_score= [KNN_test_score,NB_test_score,SVM_test_score,LR_test_score]"
   ]
  },
  {
   "cell_type": "code",
   "execution_count": 435,
   "id": "0e3038c4",
   "metadata": {},
   "outputs": [
    {
     "data": {
      "text/plain": [
       "<AxesSubplot:xlabel='Model', ylabel='Accuracy_Testing_Score'>"
      ]
     },
     "execution_count": 435,
     "metadata": {},
     "output_type": "execute_result"
    },
    {
     "data": {
      "image/png": "[encoded data removed]",
      "text/plain": [
       "<Figure size 432x288 with 1 Axes>"
      ]
     },
     "metadata": {
      "needs_background": "light"
     },
     "output_type": "display_data"
    }
   ],
   "source": [
    "plt.xlabel(\"Model\")\n",
    "plt.ylabel(\"Accuracy_Testing_Score\")\n",
    "sns.barplot(x=model1,y=test_score)"
   ]
  },
  {
   "cell_type": "markdown",
   "id": "c3593b03",
   "metadata": {},
   "source": [
    "# Predict the target values"
   ]
  },
  {
   "cell_type": "code",
   "execution_count": 436,
   "id": "984c2fbe",
   "metadata": {},
   "outputs": [
    {
     "name": "stdout",
     "output_type": "stream",
     "text": [
      "[1]\n",
      "The person has heart disease\n"
     ]
    }
   ],
   "source": [
    "input_data = (-1.474158,-0.092738,-0.816773,0.977514,0.310912,1,0,0,1,0,0,1,0,1,0,0,1,0,0,0,1,1,0,0,0,0,0,0,1,0)\n",
    "input_data_as_numpy_array= np.asarray(input_data) \n",
    "input_data_reshaped = input_data_as_numpy_array.reshape(1,-1)\n",
    "prediction = model.predict(input_data_reshaped)\n",
    "print(prediction)\n",
    "if(prediction[0]==0):\n",
    "    print(\"The person does not have heart disease\")\n",
    "else:\n",
    "    print(\"The person has heart disease\")\n",
    "    "
   ]
  }
 ],
 "metadata": {
  "kernelspec": {
   "display_name": "Python 3",
   "language": "python",
   "name": "python3"
  },
  "language_info": {
   "codemirror_mode": {
    "name": "ipython",
    "version": 3
   },
   "file_extension": ".py",
   "mimetype": "text/x-python",
   "name": "python",
   "nbconvert_exporter": "python",
   "pygments_lexer": "ipython3",
   "version": "3.8.8"
  }
 },
 "nbformat": 4,
 "nbformat_minor": 5
}
